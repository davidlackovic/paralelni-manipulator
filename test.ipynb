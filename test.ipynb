{
 "cells": [
  {
   "cell_type": "code",
   "execution_count": 3,
   "id": "a998b203",
   "metadata": {},
   "outputs": [],
   "source": [
    "from finished import kinematika\n",
    "import numpy as np"
   ]
  },
  {
   "cell_type": "code",
   "execution_count": 7,
   "id": "a6073941",
   "metadata": {},
   "outputs": [
    {
     "data": {
      "text/plain": [
       "(np.float64(-2.8647889756541165), np.float64(2.8647889756541165))"
      ]
     },
     "execution_count": 7,
     "metadata": {},
     "output_type": "execute_result"
    }
   ],
   "source": [
    "a_min = -0.05\n",
    "a_max = 0.05\n",
    "a_min_deg = np.rad2deg(a_min)\n",
    "a_max_deg = np.rad2deg(a_max)\n",
    "a_min_deg, a_max_deg\n"
   ]
  },
  {
   "cell_type": "code",
   "execution_count": 11,
   "id": "ae8174c8",
   "metadata": {},
   "outputs": [
    {
     "data": {
      "text/plain": [
       "array([4.04822136, 4.04822136, 4.04822136])"
      ]
     },
     "execution_count": 11,
     "metadata": {},
     "output_type": "execute_result"
    }
   ],
   "source": [
    "#Dejanski parametri skrajšano\n",
    "b = 0.071589 # m\n",
    "p = 0.116 # m\n",
    "l_1 = 0.08254 # m\n",
    "l_2 = 0.1775 # m\n",
    "\n",
    "kinematika.deg2steps(kinematika.izracun_kotov(b, p, l_1, l_2, 0.19, 0, 0))"
   ]
  },
  {
   "cell_type": "code",
   "execution_count": 13,
   "id": "95c2050b",
   "metadata": {},
   "outputs": [
    {
     "data": {
      "text/plain": [
       "array([5.46124014, 3.34798628, 3.34798628])"
      ]
     },
     "execution_count": 13,
     "metadata": {},
     "output_type": "execute_result"
    }
   ],
   "source": [
    "kinematika.deg2steps(kinematika.izracun_kotov(b, p, l_1, l_2, 0.19, -2.8647889, 0))"
   ]
  },
  {
   "cell_type": "code",
   "execution_count": 12,
   "id": "a09d667e",
   "metadata": {},
   "outputs": [
    {
     "data": {
      "text/plain": [
       "array([5.45768109, 4.55409225, 2.15517832])"
      ]
     },
     "execution_count": 12,
     "metadata": {},
     "output_type": "execute_result"
    }
   ],
   "source": [
    "kinematika.deg2steps(kinematika.izracun_kotov(b, p, l_1, l_2, 0.19, -2.8647889, -2.8647889))"
   ]
  },
  {
   "cell_type": "code",
   "execution_count": 14,
   "id": "b91fcbbc",
   "metadata": {},
   "outputs": [
    {
     "data": {
      "text/plain": [
       "array([2.65456498, 3.5317189 , 5.9835325 ])"
      ]
     },
     "execution_count": 14,
     "metadata": {},
     "output_type": "execute_result"
    }
   ],
   "source": [
    "kinematika.deg2steps(kinematika.izracun_kotov(b, p, l_1, l_2, 0.19, 2.8647889, 2.8647889))\n"
   ]
  },
  {
   "cell_type": "code",
   "execution_count": 15,
   "id": "f76361ef",
   "metadata": {},
   "outputs": [
    {
     "data": {
      "text/plain": [
       "array([2.65456498, 5.9835325 , 3.5317189 ])"
      ]
     },
     "execution_count": 15,
     "metadata": {},
     "output_type": "execute_result"
    }
   ],
   "source": [
    "kinematika.deg2steps(kinematika.izracun_kotov(b, p, l_1, l_2, 0.19, 2.8647889, -2.8647889))\n"
   ]
  },
  {
   "cell_type": "code",
   "execution_count": null,
   "id": "741201bd",
   "metadata": {},
   "outputs": [],
   "source": []
  }
 ],
 "metadata": {
  "kernelspec": {
   "display_name": "venv",
   "language": "python",
   "name": "python3"
  },
  "language_info": {
   "codemirror_mode": {
    "name": "ipython",
    "version": 3
   },
   "file_extension": ".py",
   "mimetype": "text/x-python",
   "name": "python",
   "nbconvert_exporter": "python",
   "pygments_lexer": "ipython3",
   "version": "3.12.6"
  }
 },
 "nbformat": 4,
 "nbformat_minor": 5
}
