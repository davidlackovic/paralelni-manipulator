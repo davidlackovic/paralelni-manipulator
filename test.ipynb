{
 "cells": [
  {
   "cell_type": "code",
   "execution_count": 1,
   "metadata": {},
   "outputs": [],
   "source": [
    "import serial\n",
    "import numpy as np\n",
    "from finished import communicator_v2\n",
    "from finished import kinematika"
   ]
  },
  {
   "cell_type": "code",
   "execution_count": 2,
   "metadata": {},
   "outputs": [
    {
     "name": "stdout",
     "output_type": "stream",
     "text": [
      "Printer response: [b'start\\n', b'echo: External Reset\\n', b'Marlin 1.1.6.2\\n', b'\\n', b'echo: Last Updated: 2018-11-28 | Author: (Ender-3 Pro)\\n', b'echo:Compiled: May 24 2019\\n', b'echo: Free Memory: 10078  PlannerBufferBytes: 1232\\n', b'echo:TF init fail\\n']\n",
      "Printer Response: [b'echo:TF init fail\\n', b'ok\\n', b'ok\\n', b'ok\\n', b'ok\\n', b'echo:Soft endstops: Off  Min: X0.00 Y0.00 Z0.00  Max: X235.00 Y235.00 Z250.00\\n', b'ok\\n', b'ok\\n', b'X:0.00 Y:0.00 Z:0.00 E:0.00 Count X:0 Y:0 Z:0\\n', b'ok\\n', b'ok\\n', b'FIRMWARE_NAME:Marlin Creality 3D SOURCE_CODE_URL:https://github.com/MarlinFirmware/Marlin PROTOCOL_VERSION:1.0 MACHINE_TYPE:Ender-3 Pro EXTRUDER_COUNT:1 UUID:cede2a2f-41a2-4748-9b12-c55c62f367ff\\n', b'Cap:EEPROM:1\\n', b'Cap:AUTOREPORT_TEMP:1\\n', b'Cap:PROGRESS:0\\n', b'Cap:PRINT_JOB:1\\n', b'Cap:AUTOLEVEL:0\\n', b'Cap:Z_PROBE:0\\n', b'Cap:LEVELING_DATA:0\\n', b'Cap:SOFTWARE_POWER:0\\n', b'Cap:TOGGLE_LIGHTS:0\\n', b'Cap:CASE_LIGHT_BRIGHTNESS:0\\n', b'Cap:EMERGENCY_PARSER:0\\n', b'ok\\n']\n",
      "Communication with board established. Max speed set to 2500, max acceleration to 200.\n"
     ]
    }
   ],
   "source": [
    "serial_port = 'COM5'\n",
    "ser = serial.Serial(serial_port, 115200, timeout=1)\n",
    "com = communicator_v2.SerialCommunication(ser=ser)"
   ]
  },
  {
   "cell_type": "code",
   "execution_count": 3,
   "metadata": {},
   "outputs": [],
   "source": [
    "#Dejanski parametri\n",
    "b = 0.071589 # m\n",
    "p = 0.21215 # m\n",
    "l_1 = 0.16200 # m\n",
    "l_2 = 0.2525 # m"
   ]
  },
  {
   "cell_type": "code",
   "execution_count": null,
   "metadata": {},
   "outputs": [],
   "source": [
    "-0.90894698 -0.73087339"
   ]
  },
  {
   "cell_type": "code",
   "execution_count": 4,
   "metadata": {},
   "outputs": [
    {
     "data": {
      "text/plain": [
       "(array([-24.65856525, -24.65856525, -24.65856525]),\n",
       " array([8.76748987, 8.76748987, 8.76748987]))"
      ]
     },
     "execution_count": 4,
     "metadata": {},
     "output_type": "execute_result"
    }
   ],
   "source": [
    "zacetni_polozaj = kinematika.izracun_kotov(b=b, p=p, l_1=l_1, l_2=l_2, h=0.32, psi_x_deg=0, psi_y_deg=0)\n",
    "pozicije_motorjev = kinematika.deg2steps(zacetni_polozaj)\n",
    "zacetni_polozaj, pozicije_motorjev"
   ]
  },
  {
   "cell_type": "code",
   "execution_count": null,
   "metadata": {},
   "outputs": [],
   "source": []
  },
  {
   "cell_type": "code",
   "execution_count": 5,
   "metadata": {},
   "outputs": [
    {
     "name": "stdout",
     "output_type": "stream",
     "text": [
      "response: ok\n",
      "Sent: G1 X8.76749 Y8.76749 Z8.76749 F1000\n"
     ]
    }
   ],
   "source": [
    "com.move_to_position(pozicije_motorjev, feedrate=1000, wait=True)"
   ]
  },
  {
   "cell_type": "code",
   "execution_count": 6,
   "metadata": {},
   "outputs": [
    {
     "name": "stdout",
     "output_type": "stream",
     "text": [
      "Steppers disabled (unlocked).\n"
     ]
    }
   ],
   "source": [
    "com.disable_steppers()"
   ]
  },
  {
   "cell_type": "code",
   "execution_count": 2,
   "metadata": {},
   "outputs": [],
   "source": [
    "start_position = np.array([0,0])\n",
    "target_position = np.array([1, 0])\n",
    "K_p = 1\n",
    "K_i = 1\n",
    "K_d = 1\n",
    "max_change_rate = np.deg2rad(5) #deg/s\n",
    "max_tilt_angle = np.deg2rad(18) #deg"
   ]
  },
  {
   "cell_type": "code",
   "execution_count": 7,
   "metadata": {},
   "outputs": [],
   "source": [
    "PID = kinematika.PID_controller(start_position=start_position, target_position=target_position, max_tilt_angle=max_tilt_angle, max_change_rate=max_change_rate, K_p=K_p, K_i=K_i, K_d=K_d)\n"
   ]
  },
  {
   "cell_type": "code",
   "execution_count": 8,
   "metadata": {},
   "outputs": [
    {
     "data": {
      "text/plain": [
       "array([41.05,  0.  ])"
      ]
     },
     "execution_count": 8,
     "metadata": {},
     "output_type": "execute_result"
    }
   ],
   "source": [
    "new_angle = PID.calculate(current_postition=start_position, target_position=target_position, time_step=0.05)\n",
    "new_angle"
   ]
  },
  {
   "cell_type": "code",
   "execution_count": 9,
   "metadata": {},
   "outputs": [
    {
     "data": {
      "text/plain": [
       "array([0.00436332, 0.        ])"
      ]
     },
     "execution_count": 9,
     "metadata": {},
     "output_type": "execute_result"
    }
   ],
   "source": [
    "PID.clip_angle(tilt_angle=np.array([0,0]), new_tilt_angle=new_angle, time_step=0.05)"
   ]
  },
  {
   "cell_type": "code",
   "execution_count": 20,
   "metadata": {},
   "outputs": [],
   "source": [
    "current_position=np.array([0.05, 0])"
   ]
  },
  {
   "cell_type": "code",
   "execution_count": 21,
   "metadata": {},
   "outputs": [
    {
     "data": {
      "text/plain": [
       "array([1.285, 0.   ])"
      ]
     },
     "execution_count": 21,
     "metadata": {},
     "output_type": "execute_result"
    }
   ],
   "source": [
    "new_angle=PID.calculate(current_postition=current_position, target_position=target_position, time_step=0.05)\n",
    "new_angle"
   ]
  },
  {
   "cell_type": "code",
   "execution_count": null,
   "metadata": {},
   "outputs": [],
   "source": []
  }
 ],
 "metadata": {
  "kernelspec": {
   "display_name": "venv",
   "language": "python",
   "name": "python3"
  },
  "language_info": {
   "codemirror_mode": {
    "name": "ipython",
    "version": 3
   },
   "file_extension": ".py",
   "mimetype": "text/x-python",
   "name": "python",
   "nbconvert_exporter": "python",
   "pygments_lexer": "ipython3",
   "version": "3.12.6"
  }
 },
 "nbformat": 4,
 "nbformat_minor": 2
}
