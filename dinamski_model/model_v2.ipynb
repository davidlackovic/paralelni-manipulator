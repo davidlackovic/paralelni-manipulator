{
 "cells": [
  {
   "cell_type": "code",
   "execution_count": 173,
   "metadata": {},
   "outputs": [],
   "source": [
    "from sympy import *\n",
    "from sympy.physics.mechanics import *\n",
    "import numpy as np\n",
    "import math"
   ]
  },
  {
   "cell_type": "code",
   "execution_count": 174,
   "metadata": {},
   "outputs": [],
   "source": [
    "N = ReferenceFrame('N')\n",
    "a_s = ReferenceFrame('a_s')\n",
    "a_z = ReferenceFrame('a_z')\n",
    "b_s = ReferenceFrame('b_s')\n",
    "b_z = ReferenceFrame('b_z')\n",
    "c_s = ReferenceFrame('c_s')\n",
    "c_z = ReferenceFrame('c_z')\n",
    "P = ReferenceFrame('P')"
   ]
  },
  {
   "cell_type": "code",
   "execution_count": 175,
   "metadata": {},
   "outputs": [],
   "source": [
    "theta1 = dynamicsymbols('theta_1')\n",
    "theta2 = dynamicsymbols('theta_2')\n",
    "theta3 = dynamicsymbols('theta_3')"
   ]
  },
  {
   "cell_type": "code",
   "execution_count": 176,
   "metadata": {},
   "outputs": [],
   "source": [
    "phi1 = symbols('phi_1')\n",
    "phi2 = symbols('phi_2')\n",
    "phi3 = symbols('phi_3')"
   ]
  },
  {
   "cell_type": "code",
   "execution_count": 177,
   "metadata": {},
   "outputs": [],
   "source": [
    "adelta1 = symbols('delta_a1')\n",
    "adelta2 = symbols('delta_a2')\n",
    "adelta3 = symbols('delta_a3')\n",
    "bdelta1 = symbols('delta_b1')\n",
    "bdelta2 = symbols('delta_b2')\n",
    "bdelta3 = symbols('delta_b3')\n",
    "cdelta1 = symbols('delta_c1')\n",
    "cdelta2 = symbols('delta_c2')\n",
    "cdelta3 = symbols('delta_c3')"
   ]
  },
  {
   "cell_type": "code",
   "execution_count": 178,
   "metadata": {},
   "outputs": [],
   "source": [
    "A = Point('A')\n",
    "Ai= Point('A\\'')\n",
    "Aii = Point('A\\'\\'')\n",
    "B = Point('B')\n",
    "Bi= Point('B\\'')\n",
    "Bii = Point('B\\'\\'')\n",
    "C = Point('C')\n",
    "Ci= Point('C\\'')\n",
    "Cii = Point('C\\'\\'')"
   ]
  },
  {
   "cell_type": "code",
   "execution_count": 179,
   "metadata": {},
   "outputs": [],
   "source": [
    "a_s.orient(N, 'Space', [-theta1, 0, math.pi], '123')\n",
    "b_s.orient(N, 'Space', [theta2*np.cos(np.pi/3), theta2*np.sin(np.pi/3), math.pi/3], '123')\n",
    "c_s.orient(N, 'Space', [theta3*np.cos(5*np.pi/6), theta3*np.sin(5*np.pi/6), -math.pi/3], '123')\n",
    "\n",
    "a_z.orient(a_s, 'Space', [-math.pi+phi1, 0, 0], '123')\n",
    "b_z.orient(b_s, 'Space', [-math.pi+phi2, 0, 0], '123')\n",
    "c_z.orient(c_s, 'Space', [-math.pi+phi3, 0, 0], '123')"
   ]
  },
  {
   "cell_type": "code",
   "execution_count": 180,
   "metadata": {},
   "outputs": [],
   "source": [
    "B.set_pos(A, (sqrt(3)/10)*N.x-0.3*N.y)\n",
    "C.set_pos(A, -(sqrt(3)/10)*N.x-0.3*N.y)\n",
    "\n",
    "Ai.set_pos(A, 0.2*a_s.z)\n",
    "Bi.set_pos(B, 0.2*b_s.z)\n",
    "Ci.set_pos(C, 0.2*c_s.z)\n",
    "\n",
    "Aii.set_pos(Ai, 0.23481*a_z.z)\n",
    "Bii.set_pos(Bi, 0.23481*b_z.z)\n",
    "Cii.set_pos(Ci, 0.23481*c_z.z)\n",
    "\n",
    "Bii.set_pos(Aii, 0.19375*N.x-0.3875*np.cos(np.pi/3)*N.y)\n",
    "Cii.set_pos(Aii, -0.19375*N.x-0.3875*np.cos(np.pi/3)*N.y)"
   ]
  },
  {
   "cell_type": "code",
   "execution_count": 181,
   "metadata": {},
   "outputs": [],
   "source": [
    "A.set_vel(N, 0)\n",
    "B.set_vel(N, 0)\n",
    "C.set_vel(N, 0)\n",
    "\n",
    "Aii.set_vel(P, 0)\n",
    "Bii.set_vel(P, 0)\n",
    "Cii.set_vel(P, 0)"
   ]
  },
  {
   "cell_type": "code",
   "execution_count": 182,
   "metadata": {},
   "outputs": [],
   "source": [
    "a_s.set_ang_vel(N, theta1.diff()*a_s.x)\n",
    "b_s.set_ang_vel(N, theta2.diff()*b_s.x)\n",
    "b_s.set_ang_vel(N, theta3.diff()*c_s.x)\n",
    "\n",
    "a_z.set_ang_vel(a_s, phi1.diff()*a_z.x)\n",
    "b_z.set_ang_vel(b_s, phi2.diff()*b_z.x)\n",
    "c_z.set_ang_vel(c_s, phi3.diff()*c_z.x)\n",
    "\n",
    "P.set_ang_vel(a_z, adelta1.diff()*a_z.x+adelta2.diff()*a_z.y+adelta3.diff()*a_z.z)\n",
    "P.set_ang_vel(b_z, bdelta1.diff()*b_z.x+bdelta2.diff()*b_z.y+bdelta3.diff()*b_z.z)\n",
    "P.set_ang_vel(c_z, cdelta1.diff()*c_z.x+cdelta2.diff()*c_z.y+cdelta3.diff()*c_z.z)"
   ]
  },
  {
   "cell_type": "code",
   "execution_count": 172,
   "metadata": {},
   "outputs": [
    {
     "data": {
      "text/latex": [
       "$\\displaystyle 2\\mathbf{\\hat{a_z}_x} + \\mathbf{\\hat{a_z}_y} + \\mathbf{\\hat{a_z}_z} + \\frac{d}{d t} \\theta_{1}{\\left(t \\right)}\\mathbf{\\hat{a_s}_x}$"
      ],
      "text/plain": [
       "Derivative(theta_1(t), t)*a_s.x + 2*a_z.x + a_z.y + a_z.z"
      ]
     },
     "execution_count": 172,
     "metadata": {},
     "output_type": "execute_result"
    }
   ],
   "source": [
    "P.ang_vel_in(N)"
   ]
  },
  {
   "cell_type": "code",
   "execution_count": null,
   "metadata": {},
   "outputs": [],
   "source": []
  },
  {
   "cell_type": "code",
   "execution_count": 130,
   "metadata": {},
   "outputs": [],
   "source": [
    "from __future__ import print_function, division\n",
    "from IPython.display import Image\n",
    "import pythreejs\n",
    "from pydy.viz.shapes import Cylinder, Sphere\n",
    "import pydy.viz\n",
    "from pydy.viz.visualization_frame import VisualizationFrame\n",
    "from pydy.viz.scene import Scene\n"
   ]
  },
  {
   "cell_type": "code",
   "execution_count": 131,
   "metadata": {},
   "outputs": [],
   "source": [
    "A_shape = Sphere(0.1, color='black')\n",
    "Ai_shape = Sphere(0.1, color='black')\n",
    "Aii_shape = Sphere(0.1, color='black')\n",
    "B_shape = Sphere(0.1, color='black')\n",
    "Bi_shape = Sphere(0.1, color='black')\n",
    "Bii_shape = Sphere(0.1, color='black')\n",
    "C_shape = Sphere(0.1, color='black')\n",
    "Ci_shape = Sphere(0.1, color='black')\n",
    "Cii_shape = Sphere(0.1, color='black')"
   ]
  },
  {
   "cell_type": "code",
   "execution_count": 132,
   "metadata": {},
   "outputs": [],
   "source": [
    "a_s_frame = VisualizationFrame(N, A, A_shape)\n",
    "b_s_frame = VisualizationFrame(N, B, B_shape)\n",
    "c_s_frame = VisualizationFrame(N, C, C_shape)"
   ]
  },
  {
   "cell_type": "code",
   "execution_count": 133,
   "metadata": {},
   "outputs": [],
   "source": [
    "scene = Scene(N, A)"
   ]
  },
  {
   "cell_type": "code",
   "execution_count": 134,
   "metadata": {},
   "outputs": [],
   "source": [
    "scene.visualization_frames = [a_s_frame, b_s_frame, c_s_frame]"
   ]
  },
  {
   "cell_type": "code",
   "execution_count": null,
   "metadata": {},
   "outputs": [],
   "source": [
    "ka"
   ]
  }
 ],
 "metadata": {
  "kernelspec": {
   "display_name": ".venv",
   "language": "python",
   "name": "python3"
  },
  "language_info": {
   "codemirror_mode": {
    "name": "ipython",
    "version": 3
   },
   "file_extension": ".py",
   "mimetype": "text/x-python",
   "name": "python",
   "nbconvert_exporter": "python",
   "pygments_lexer": "ipython3",
   "version": "3.11.1"
  }
 },
 "nbformat": 4,
 "nbformat_minor": 2
}
