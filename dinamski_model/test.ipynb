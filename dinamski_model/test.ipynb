{
 "cells": [
  {
   "cell_type": "code",
   "execution_count": 1,
   "metadata": {},
   "outputs": [],
   "source": [
    "import numpy as np"
   ]
  },
  {
   "cell_type": "code",
   "execution_count": 3,
   "metadata": {},
   "outputs": [],
   "source": [
    "from funkcije_v2 import izracun_kotov"
   ]
  },
  {
   "cell_type": "code",
   "execution_count": 9,
   "metadata": {},
   "outputs": [
    {
     "data": {
      "text/plain": [
       "(np.float64(-71.59848350951414),\n",
       " np.float64(-64.09523994441349),\n",
       " np.float64(-68.56716759164561),\n",
       " np.float64(-133.6092471290491),\n",
       " np.float64(-144.85019929007635),\n",
       " np.float64(-136.46802702200478))"
      ]
     },
     "execution_count": 9,
     "metadata": {},
     "output_type": "execute_result"
    }
   ],
   "source": [
    "izracun_kotov(0.55, 0.275, 0.7, 0.775, 1.2, -0.2, 0.2)"
   ]
  },
  {
   "cell_type": "code",
   "execution_count": 10,
   "metadata": {},
   "outputs": [],
   "source": [
    "#Dejanski parametri\n",
    "b = 0.071014 # m\n",
    "p = 0.223723 # m\n",
    "l_1 = 0.2 # m\n",
    "l_2 = 0.23481 # m"
   ]
  },
  {
   "cell_type": "code",
   "execution_count": 11,
   "metadata": {},
   "outputs": [
    {
     "data": {
      "text/plain": [
       "(np.float64(-26.477964323568553),\n",
       " np.float64(-11.32443368679505),\n",
       " np.float64(-22.186054088544257),\n",
       " np.float64(-103.15467945147822),\n",
       " np.float64(-110.58287202755851),\n",
       " np.float64(-104.85125490628367))"
      ]
     },
     "execution_count": 11,
     "metadata": {},
     "output_type": "execute_result"
    }
   ],
   "source": [
    "izracun_kotov(b, p, l_1, l_2, 0.3, -0.1, 0.1)"
   ]
  },
  {
   "cell_type": "code",
   "execution_count": 16,
   "metadata": {},
   "outputs": [],
   "source": [
    "import numpy as np\n",
    "\n",
    "def izracun_kotov(b, p, l_1, l_2, h, omega_x, omega_y):\n",
    "\n",
    "    R = np.array([[np.cos(np.asin(omega_x))*np.cos(np.tan((np.sin(np.asin(-omega_y/np.cos(np.asin(omega_x))))*np.sin(np.asin(omega_x)))/(np.cos(np.asin(-omega_y/np.cos(np.asin(omega_x))))+np.cos(np.asin(omega_x))))), -np.cos(np.asin(omega_x))*np.sin(np.tan((np.sin(np.asin(-omega_y/np.cos(np.asin(omega_x))))*np.sin(np.asin(omega_x)))/(np.cos(np.asin(-omega_y/np.cos(np.asin(omega_x))))+np.cos(np.asin(omega_x))))), np.sin(np.asin(omega_x))],\n",
    "              [np.sin(np.asin(-omega_y/np.cos(np.asin(omega_x))))*np.sin(np.asin(omega_x))*np.cos(np.tan((np.sin(np.asin(-omega_y/np.cos(np.asin(omega_x))))*np.sin(np.asin(omega_x)))/(np.cos(np.asin(-omega_y/np.cos(np.asin(omega_x))))+np.cos(np.asin(omega_x))))), np.cos(np.asin(-omega_y/np.cos(np.asin(omega_x))))*np.cos(np.tan((np.sin(np.asin(-omega_y/np.cos(np.asin(omega_x))))*np.sin(np.asin(omega_x)))/(np.cos(np.asin(-omega_y/np.cos(np.asin(omega_x))))+np.cos(np.asin(omega_x)))))-np.sin(np.asin(-omega_y/np.cos(np.asin(omega_x))))*np.sin(np.asin(omega_x))*np.sin(np.tan((np.sin(np.asin(-omega_y/np.cos(np.asin(omega_x))))*np.sin(np.asin(omega_x)))/(np.cos(np.asin(-omega_y/np.cos(np.asin(omega_x))))+np.cos(np.asin(omega_x))))), -np.sin(np.asin(-omega_y/np.cos(np.asin(omega_x))))*np.cos(np.asin(omega_x))],\n",
    "              [np.sin(np.asin(-omega_y/np.cos(np.asin(omega_x))))*np.sin(np.tan((np.sin(np.asin(-omega_y/np.cos(np.asin(omega_x))))*np.sin(np.asin(omega_x)))/(np.cos(np.asin(-omega_y/np.cos(np.asin(omega_x))))+np.cos(np.asin(omega_x)))))-np.cos(np.asin(-omega_y/np.cos(np.asin(omega_x))))*np.sin(np.asin(omega_x))*np.cos(np.tan((np.sin(np.asin(-omega_y/np.cos(np.asin(omega_x))))*np.sin(np.asin(omega_x)))/(np.cos(np.asin(-omega_y/np.cos(np.asin(omega_x))))+np.cos(np.asin(omega_x))))), np.sin(np.asin(-omega_y/np.cos(np.asin(omega_x))))*np.cos(np.tan((np.sin(np.asin(-omega_y/np.cos(np.asin(omega_x))))*np.sin(np.asin(omega_x)))/(np.cos(np.asin(-omega_y/np.cos(np.asin(omega_x))))+np.cos(np.asin(omega_x)))))+np.cos(np.asin(-omega_y/np.cos(np.asin(omega_x))))*np.sin(np.asin(omega_x))*np.sin(np.tan((np.sin(np.asin(-omega_y/np.cos(np.asin(omega_x))))*np.sin(np.asin(omega_x)))/(np.cos(np.asin(-omega_y/np.cos(np.asin(omega_x))))+np.cos(np.asin(omega_x))))), np.cos(np.asin(-omega_y/np.cos(np.asin(omega_x))))*np.cos(np.asin(omega_x))]])\n",
    "    \n",
    "    #R[1][0] = R[0][1]\n",
    "\n",
    "    O_7 = np.array([(p*(R[0][0]-R[1][1]))/2, -R[1][0]*p, h])\n",
    "    \n",
    "    alpha = 0\n",
    "    R_z = np.array([[np.cos(alpha), -np.sin(alpha), 0],\n",
    "                    [np.sin(alpha), np.cos(alpha), 0],\n",
    "                    [0, 0, 1]])\n",
    "    vec_0 = O_7 + R@(R_z@np.array([p, 0, 0]))\n",
    "    alpha = 2*np.pi/3 \n",
    "    R_z = np.array([[np.cos(alpha), -np.sin(alpha), 0],\n",
    "                    [np.sin(alpha), np.cos(alpha), 0],\n",
    "                    [0, 0, 1]])\n",
    "    vec_1 = O_7 + R@R_z@np.array([p, 0, 0])\n",
    "    alpha = 4*np.pi/3 \n",
    "    R_z = np.array([[np.cos(alpha), -np.sin(alpha), 0],\n",
    "                    [np.sin(alpha), np.cos(alpha), 0],\n",
    "                    [0, 0, 1]])\n",
    "    \n",
    "    vec_2 = O_7 + R@(R_z@np.array([p, 0, 0]))\n",
    "\n",
    "    vecs = np.array([[vec_0[0], vec_0[2]], [vec_1[0], vec_1[2]], [vec_2[0], vec_2[2]]])\n",
    "\n",
    "    A_1 = 2*l_1*np.cos(0)*(-vecs[0][0] + b*np.cos(0))\n",
    "    A_2 = 2*l_1*np.cos(2*np.pi/3)*(-vecs[1][0] + b*np.cos(2*np.pi/3))\n",
    "    A_3 = 2*l_1*np.cos(4*np.pi/3)*(-vecs[2][0] + b*np.cos(4*np.pi/3))\n",
    "\n",
    "    B_1 = 2*l_1*vecs[0][1]*np.cos(0)**2\n",
    "    B_2 = 2*l_1*vecs[1][1]*np.cos(2*np.pi/3)**2\n",
    "    B_3 = 2*l_1*vecs[2][1]*np.cos(4*np.pi/3)**2\n",
    "\n",
    "    C_1 = vecs[0][0]**2-2*b*vecs[0][0]*np.cos(0)+np.cos(0)**2*(b**2+l_1**2-l_2**2+vecs[0][1]**2)\n",
    "    C_2 = vecs[1][0]**2-2*b*vecs[1][0]*np.cos(2*np.pi/3)+np.cos(2*np.pi/3)**2*(b**2+l_1**2-l_2**2+vecs[1][1]**2)\n",
    "    C_3 = vecs[2][0]**2-2*b*vecs[2][0]*np.cos(4*np.pi/3)+np.cos(4*np.pi/3)**2*(b**2+l_1**2-l_2**2+vecs[2][1]**2)\n",
    "\n",
    "    En_1_m = 2*np.atan2(-B_1-np.sqrt(A_1**2+B_1**2-C_1**2), C_1-A_1)\n",
    "    En_1_p = 2*np.atan2(-B_1+np.sqrt(A_1**2+B_1**2-C_1**2), C_1-A_1)\n",
    "    En_2_p = 2*np.atan2(-B_2+np.sqrt(A_2**2+B_2**2-C_2**2), C_2-A_2)\n",
    "    En_2_m = 2*np.atan2(-B_2-np.sqrt(A_2**2+B_2**2-C_2**2), C_2-A_2)\n",
    "    En_3_p = 2*np.atan2(-B_3+np.sqrt(A_3**2+B_3**2-C_3**2), C_3-A_3)\n",
    "    En_3_m = 2*np.atan2(-B_3-np.sqrt(A_3**2+B_3**2-C_3**2), C_3-A_3)\n",
    "\n",
    "    return np.rad2deg(En_1_p), np.rad2deg(En_2_p), np.rad2deg(En_3_p), np.rad2deg(En_1_m), np.rad2deg(En_2_m), np.rad2deg(En_3_m)\n",
    "\n"
   ]
  },
  {
   "cell_type": "code",
   "execution_count": 12,
   "metadata": {},
   "outputs": [
    {
     "data": {
      "text/plain": [
       "[np.float64(-72.68975503357991),\n",
       " np.float64(-70.28638508881488),\n",
       " np.float64(-62.72487406864192),\n",
       " np.float64(-132.91446391809188),\n",
       " np.float64(-146.84023566993787),\n",
       " np.float64(-135.07986354707697)]"
      ]
     },
     "execution_count": 12,
     "metadata": {},
     "output_type": "execute_result"
    }
   ],
   "source": [
    "import numpy as np\n",
    "\n",
    "def izracun_kotov(b, p, l_1, l_2, h, omega_x, omega_y):\n",
    "    sin_omega_x = np.sin(np.arcsin(omega_x))\n",
    "    cos_omega_x = np.cos(np.arcsin(omega_x))\n",
    "    sin_omega_y_cos_omega_x = np.sin(np.arcsin(-omega_y / cos_omega_x))\n",
    "    cos_omega_y_cos_omega_x = np.cos(np.arcsin(-omega_y / cos_omega_x))\n",
    "\n",
    "    R = np.array([\n",
    "        [cos_omega_x * cos_omega_y_cos_omega_x, -cos_omega_x * sin_omega_y_cos_omega_x, sin_omega_x],\n",
    "        [sin_omega_y_cos_omega_x * sin_omega_x * cos_omega_y_cos_omega_x, \n",
    "         cos_omega_y_cos_omega_x * cos_omega_y_cos_omega_x - sin_omega_y_cos_omega_x * sin_omega_x * sin_omega_y_cos_omega_x, \n",
    "         -sin_omega_y_cos_omega_x * cos_omega_x],\n",
    "        [sin_omega_y_cos_omega_x * sin_omega_y_cos_omega_x - cos_omega_y_cos_omega_x * sin_omega_x * cos_omega_y_cos_omega_x,\n",
    "         sin_omega_y_cos_omega_x * cos_omega_y_cos_omega_x + cos_omega_y_cos_omega_x * sin_omega_x * sin_omega_y_cos_omega_x,\n",
    "         cos_omega_y_cos_omega_x * cos_omega_x]\n",
    "    ])\n",
    "\n",
    "    O_7 = np.array([(p * (R[0][0] - R[1][1])) / 2, -R[1][0] * p, h])\n",
    "\n",
    "    vecs = []\n",
    "    for alpha in [0, 2 * np.pi / 3, 4 * np.pi / 3]:\n",
    "        R_z = np.array([\n",
    "            [np.cos(alpha), -np.sin(alpha), 0],\n",
    "            [np.sin(alpha), np.cos(alpha), 0],\n",
    "            [0, 0, 1]\n",
    "        ])\n",
    "        vec = O_7 + (R @ R_z) @ np.array([p, 0, 0])\n",
    "        vecs.append([vec[0], vec[2]])\n",
    "\n",
    "    vecs = np.array(vecs)\n",
    "\n",
    "    As = [2 * l_1 * np.cos(alpha) * (-vecs[i][0] + b * np.cos(alpha)) for i, alpha in enumerate([0, 2 * np.pi / 3, 4 * np.pi / 3])]\n",
    "    Bs = [2 * l_1 * vecs[i][1] * np.cos(alpha)**2 for i, alpha in enumerate([0, 2 * np.pi / 3, 4 * np.pi / 3])]\n",
    "    Cs = [vecs[i][0]**2 - 2 * b * vecs[i][0] * np.cos(alpha) + np.cos(alpha)**2 * (b**2 + l_1**2 - l_2**2 + vecs[i][1]**2) for i, alpha in enumerate([0, 2 * np.pi / 3, 4 * np.pi / 3])]\n",
    "\n",
    "    En_p = [2 * np.arctan2(-Bs[i] + np.sqrt(As[i]**2 + Bs[i]**2 - Cs[i]**2), Cs[i] - As[i]) for i in range(3)]\n",
    "    En_m = [2 * np.arctan2(-Bs[i] - np.sqrt(As[i]**2 + Bs[i]**2 - Cs[i]**2), Cs[i] - As[i]) for i in range(3)]\n",
    "\n",
    "    return [np.rad2deg(angle) for angle in En_p + En_m]\n",
    "\n",
    "# Example usage\n",
    "izracun_kotov(0.55, 0.275, 0.7, 0.775, 1.2, -0.2, 0.2)\n",
    "\n"
   ]
  },
  {
   "cell_type": "code",
   "execution_count": 21,
   "metadata": {},
   "outputs": [
    {
     "data": {
      "text/plain": [
       "(np.float64(-71.59848350951414),\n",
       " np.float64(-64.09523994441349),\n",
       " np.float64(-68.56716759164561),\n",
       " np.float64(-133.6092471290491),\n",
       " np.float64(-144.85019929007635),\n",
       " np.float64(-136.46802702200478))"
      ]
     },
     "execution_count": 21,
     "metadata": {},
     "output_type": "execute_result"
    }
   ],
   "source": [
    "import numpy as np\n",
    "\n",
    "def izracun_kotov(b, p, l_1, l_2, h, omega_x, omega_y):\n",
    "    psi_y = np.asin(omega_x)\n",
    "    if np.sin(psi_y) == 1 or np.sin(psi_y) == -1:\n",
    "        raise ValueError('Nepravilna vrednost omega_x!') \n",
    "    psi_x = np.asin(-omega_y/np.cos(psi_y))\n",
    "    psi_z = np.atan(-np.sin(psi_x)*np.sin(psi_y)/(np.cos(psi_x)+np.cos(psi_y)))\n",
    "\n",
    "    R = np.array([[np.cos(psi_y)*np.cos(psi_z), -np.cos(psi_y)*np.sin(psi_z), np.sin(psi_y)],\n",
    "                  [np.sin(psi_x)*np.sin(psi_y)*np.cos(psi_z)+np.cos(psi_x)*np.sin(psi_z), np.cos(psi_x)*np.cos(psi_z)-np.sin(psi_x)*np.sin(psi_y)*np.sin(psi_z), -np.sin(psi_x)*np.cos(psi_y)],\n",
    "                  [np.sin(psi_x)*np.sin(psi_z)-np.cos(psi_x)*np.sin(psi_y)*np.cos(psi_z), np.sin(psi_x)*np.cos(psi_z)+np.cos(psi_x)*np.sin(psi_y)*np.sin(psi_z), np.cos(psi_x)*np.cos(psi_y)]])\n",
    "\n",
    "    O_7 = np.array([p*(R[0][0]-R[1][1])/2, -R[1][0]*p, h])\n",
    "\n",
    "    alpha = 0\n",
    "    R_z = np.array([[np.cos(alpha), -np.sin(alpha), 0],\n",
    "                    [np.sin(alpha), np.cos(alpha), 0],\n",
    "                    [0, 0, 1]])\n",
    "    vec_0 = O_7 + R@R_z@np.array([p, 0, 0])\n",
    "    alpha = 2*np.pi/3 \n",
    "    R_z = np.array([[np.cos(alpha), -np.sin(alpha), 0],\n",
    "                    [np.sin(alpha), np.cos(alpha), 0],\n",
    "                    [0, 0, 1]])\n",
    "    vec_1 = O_7 + R@R_z@np.array([p, 0, 0])\n",
    "    alpha = 4*np.pi/3 \n",
    "    R_z = np.array([[np.cos(alpha), -np.sin(alpha), 0],\n",
    "                    [np.sin(alpha), np.cos(alpha), 0],\n",
    "                    [0, 0, 1]])\n",
    "    vec_2 = O_7 + R@R_z@np.array([p, 0, 0])\n",
    "\n",
    "    vecs = np.array([[vec_0[0], vec_0[2]], [vec_1[0], vec_1[2]], [vec_2[0], vec_2[2]]])\n",
    "\n",
    "    A_1 = 2*l_1*np.cos(0)*(-vecs[0][0] + b*np.cos(0))\n",
    "    A_2 = 2*l_1*np.cos(2*np.pi/3)*(-vecs[1][0] + b*np.cos(2*np.pi/3))\n",
    "    A_3 = 2*l_1*np.cos(4*np.pi/3)*(-vecs[2][0] + b*np.cos(4*np.pi/3))\n",
    "\n",
    "    B_1 = 2*l_1*vecs[0][1]*np.cos(0)**2\n",
    "    B_2 = 2*l_1*vecs[1][1]*np.cos(2*np.pi/3)**2\n",
    "    B_3 = 2*l_1*vecs[2][1]*np.cos(4*np.pi/3)**2\n",
    "\n",
    "    C_1 = vecs[0][0]**2-2*b*vecs[0][0]*np.cos(0)+np.cos(0)**2*(b**2+l_1**2-l_2**2+vecs[0][1]**2)\n",
    "    C_2 = vecs[1][0]**2-2*b*vecs[1][0]*np.cos(2*np.pi/3)+np.cos(2*np.pi/3)**2*(b**2+l_1**2-l_2**2+vecs[1][1]**2)\n",
    "    C_3 = vecs[2][0]**2-2*b*vecs[2][0]*np.cos(4*np.pi/3)+np.cos(4*np.pi/3)**2*(b**2+l_1**2-l_2**2+vecs[2][1]**2)\n",
    "\n",
    "    En_1_m = 2*np.atan2(-B_1-np.sqrt(A_1**2+B_1**2-C_1**2), C_1-A_1)\n",
    "    En_1_p = 2*np.atan2(-B_1+np.sqrt(A_1**2+B_1**2-C_1**2), C_1-A_1)\n",
    "    En_2_p = 2*np.atan2(-B_2+np.sqrt(A_2**2+B_2**2-C_2**2), C_2-A_2)\n",
    "    En_2_m = 2*np.atan2(-B_2-np.sqrt(A_2**2+B_2**2-C_2**2), C_2-A_2)\n",
    "    En_3_p = 2*np.atan2(-B_3+np.sqrt(A_3**2+B_3**2-C_3**2), C_3-A_3)\n",
    "    En_3_m = 2*np.atan2(-B_3-np.sqrt(A_3**2+B_3**2-C_3**2), C_3-A_3)\n",
    "\n",
    "    return np.rad2deg(En_1_p), np.rad2deg(En_2_p), np.rad2deg(En_3_p), np.rad2deg(En_1_m), np.rad2deg(En_2_m), np.rad2deg(En_3_m)\n",
    "\n",
    "izracun_kotov(0.55, 0.275, 0.7, 0.775, 1.2, -0.2, 0.2)"
   ]
  },
  {
   "cell_type": "code",
   "execution_count": null,
   "metadata": {},
   "outputs": [],
   "source": []
  }
 ],
 "metadata": {
  "kernelspec": {
   "display_name": ".venv",
   "language": "python",
   "name": "python3"
  },
  "language_info": {
   "codemirror_mode": {
    "name": "ipython",
    "version": 3
   },
   "file_extension": ".py",
   "mimetype": "text/x-python",
   "name": "python",
   "nbconvert_exporter": "python",
   "pygments_lexer": "ipython3",
   "version": "3.11.1"
  }
 },
 "nbformat": 4,
 "nbformat_minor": 2
}
