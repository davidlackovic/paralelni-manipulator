{
 "cells": [
  {
   "cell_type": "code",
   "execution_count": 3,
   "metadata": {},
   "outputs": [],
   "source": [
    "import numpy as np"
   ]
  },
  {
   "cell_type": "code",
   "execution_count": 35,
   "metadata": {},
   "outputs": [],
   "source": [
    "omega_x = -0.2\n",
    "omega_y = 0.2\n",
    "h = 1.2\n",
    "p = 0.275"
   ]
  },
  {
   "cell_type": "code",
   "execution_count": 36,
   "metadata": {},
   "outputs": [],
   "source": [
    "R = np.array([[np.cos(np.asin(omega_x))*np.cos(np.tan((np.sin(np.asin(-omega_y/np.cos(np.asin(omega_x))))*np.sin(np.asin(omega_x)))/(np.cos(np.asin(-omega_y/np.cos(np.asin(omega_x))))+np.cos(np.asin(omega_x))))), -np.cos(np.asin(omega_x))*np.sin(np.tan((np.sin(np.asin(-omega_y/np.cos(np.asin(omega_x))))*np.sin(np.asin(omega_x)))/(np.cos(np.asin(-omega_y/np.cos(np.asin(omega_x))))+np.cos(np.asin(omega_x))))), np.sin(np.asin(omega_x))],\n",
    "              [np.sin(np.asin(-omega_y/np.cos(np.asin(omega_x))))*np.sin(np.asin(omega_x))*np.cos(np.tan((np.sin(np.asin(-omega_y/np.cos(np.asin(omega_x))))*np.sin(np.asin(omega_x)))/(np.cos(np.asin(-omega_y/np.cos(np.asin(omega_x))))+np.cos(np.asin(omega_x))))), np.cos(np.asin(-omega_y/np.cos(np.asin(omega_x))))*np.cos(np.tan((np.sin(np.asin(-omega_y/np.cos(np.asin(omega_x))))*np.sin(np.asin(omega_x)))/(np.cos(np.asin(-omega_y/np.cos(np.asin(omega_x))))+np.cos(np.asin(omega_x)))))-np.sin(np.asin(-omega_y/np.cos(np.asin(omega_x))))*np.sin(np.asin(omega_x))*np.sin(np.tan((np.sin(np.asin(-omega_y/np.cos(np.asin(omega_x))))*np.sin(np.asin(omega_x)))/(np.cos(np.asin(-omega_y/np.cos(np.asin(omega_x))))+np.cos(np.asin(omega_x))))), -np.sin(np.asin(-omega_y/np.cos(np.asin(omega_x))))*np.cos(np.asin(omega_x))],\n",
    "              [np.sin(np.asin(-omega_y/np.cos(np.asin(omega_x))))*np.sin(np.tan((np.sin(np.asin(-omega_y/np.cos(np.asin(omega_x))))*np.sin(np.asin(omega_x)))/(np.cos(np.asin(-omega_y/np.cos(np.asin(omega_x))))+np.cos(np.asin(omega_x)))))-np.cos(np.asin(-omega_y/np.cos(np.asin(omega_x))))*np.sin(np.asin(omega_x))*np.cos(np.tan((np.sin(np.asin(-omega_y/np.cos(np.asin(omega_x))))*np.sin(np.asin(omega_x)))/(np.cos(np.asin(-omega_y/np.cos(np.asin(omega_x))))+np.cos(np.asin(omega_x))))), np.sin(np.asin(-omega_y/np.cos(np.asin(omega_x))))*np.cos(np.tan((np.sin(np.asin(-omega_y/np.cos(np.asin(omega_x))))*np.sin(np.asin(omega_x)))/(np.cos(np.asin(-omega_y/np.cos(np.asin(omega_x))))+np.cos(np.asin(omega_x)))))+np.cos(np.asin(-omega_y/np.cos(np.asin(omega_x))))*np.sin(np.asin(omega_x))*np.sin(np.tan((np.sin(np.asin(-omega_y/np.cos(np.asin(omega_x))))*np.sin(np.asin(omega_x)))/(np.cos(np.asin(-omega_y/np.cos(np.asin(omega_x))))+np.cos(np.asin(omega_x))))), np.cos(np.asin(-omega_y/np.cos(np.asin(omega_x))))*np.cos(np.asin(omega_x))]])"
   ]
  },
  {
   "cell_type": "code",
   "execution_count": 46,
   "metadata": {},
   "outputs": [
    {
     "data": {
      "text/plain": [
       "array([[ 0.97958303, -0.02042276, -0.2       ],\n",
       "       [-0.02042276,  0.97788138,  0.2       ],\n",
       "       [ 0.19149172, -0.2081608 ,  0.9591663 ]])"
      ]
     },
     "execution_count": 46,
     "metadata": {},
     "output_type": "execute_result"
    }
   ],
   "source": [
    "R"
   ]
  },
  {
   "cell_type": "code",
   "execution_count": 45,
   "metadata": {},
   "outputs": [
    {
     "data": {
      "text/plain": [
       "array([[ 0.97958303, -0.02042276, -0.2       ],\n",
       "       [-0.02042276,  0.97788138,  0.2       ],\n",
       "       [ 0.19149172, -0.2081608 ,  0.9591663 ]])"
      ]
     },
     "execution_count": 45,
     "metadata": {},
     "output_type": "execute_result"
    }
   ],
   "source": [
    "R[1][0] = R[0][1]\n",
    "#R[0][1] = R[1][0]\n",
    "R"
   ]
  },
  {
   "cell_type": "code",
   "execution_count": 47,
   "metadata": {},
   "outputs": [],
   "source": [
    "O_7y = -R[1][0]*p\n",
    "O_7x = (p*(R[0][0]-R[1][1]))/2\n",
    "O_7z = h"
   ]
  },
  {
   "cell_type": "code",
   "execution_count": 48,
   "metadata": {},
   "outputs": [],
   "source": [
    "O_7 = np.array([O_7x, O_7y, O_7z])"
   ]
  },
  {
   "cell_type": "code",
   "execution_count": 51,
   "metadata": {},
   "outputs": [],
   "source": [
    "alpha = 4*np.pi/3 # ali 2*np.pi/3 ali 4*np.pi/3"
   ]
  },
  {
   "cell_type": "code",
   "execution_count": 52,
   "metadata": {},
   "outputs": [
    {
     "data": {
      "text/plain": [
       "array([[-0.5      ,  0.8660254,  0.       ],\n",
       "       [-0.8660254, -0.5      ,  0.       ],\n",
       "       [ 0.       ,  0.       ,  1.       ]])"
      ]
     },
     "execution_count": 52,
     "metadata": {},
     "output_type": "execute_result"
    }
   ],
   "source": [
    "R_z = np.array([[np.cos(alpha), -np.sin(alpha), 0],\n",
    "                [np.sin(alpha), np.cos(alpha), 0],\n",
    "                [0, 0, 1]])\n",
    "R_z"
   ]
  },
  {
   "cell_type": "code",
   "execution_count": 49,
   "metadata": {},
   "outputs": [],
   "source": [
    "alpha = 0\n",
    "R_z = np.array([[np.cos(alpha), -np.sin(alpha), 0],\n",
    "                [np.sin(alpha), np.cos(alpha), 0],\n",
    "                [0, 0, 1]])\n",
    "vektor_0 = O_7 + (R@R_z)@np.array([p, 0, 0])\n",
    "alpha = 2*np.pi/3 \n",
    "R_z = np.array([[np.cos(alpha), -np.sin(alpha), 0],\n",
    "                [np.sin(alpha), np.cos(alpha), 0],\n",
    "                [0, 0, 1]])\n",
    "vektor_1 = O_7 + (R@R_z)@np.array([p, 0, 0])\n",
    "alpha = 4*np.pi/3 \n",
    "R_z = np.array([[np.cos(alpha), -np.sin(alpha), 0],\n",
    "                [np.sin(alpha), np.cos(alpha), 0],\n",
    "                [0, 0, 1]])\n",
    "vektor_2 = O_7 + (R@R_z)@np.array([p, 0, 0])\n",
    "\n"
   ]
  },
  {
   "cell_type": "code",
   "execution_count": 41,
   "metadata": {},
   "outputs": [
    {
     "data": {
      "text/plain": [
       "(array([0.26961931, 0.        , 1.25266022]),\n",
       " array([-0.13932251,  0.2160527 ,  1.12409494]),\n",
       " array([-0.12959487, -0.24972587,  1.22324484]))"
      ]
     },
     "execution_count": 41,
     "metadata": {},
     "output_type": "execute_result"
    }
   ],
   "source": [
    "vektor_0, vektor_1, vektor_2"
   ]
  },
  {
   "cell_type": "code",
   "execution_count": 50,
   "metadata": {},
   "outputs": [
    {
     "data": {
      "text/plain": [
       "(array([0.26961931, 0.        , 1.25266022]),\n",
       " array([-0.13932251,  0.24131367,  1.12409494]),\n",
       " array([-0.12959487, -0.22446489,  1.22324484]))"
      ]
     },
     "execution_count": 50,
     "metadata": {},
     "output_type": "execute_result"
    }
   ],
   "source": [
    "vektor_0, vektor_1, vektor_2"
   ]
  },
  {
   "cell_type": "code",
   "execution_count": 51,
   "metadata": {},
   "outputs": [],
   "source": [
    "vozlisca = np.array([[vektor_0[0], vektor_0[2]], [vektor_1[0], vektor_1[2]], [vektor_2[0], vektor_2[2]]])"
   ]
  },
  {
   "cell_type": "code",
   "execution_count": 55,
   "metadata": {},
   "outputs": [],
   "source": [
    "#vozlisca = np.array([[np.sqrt(vektor_0[0]**2+vektor_0[1]**2), vektor_0[2]], [np.sqrt(vektor_1[0]**2+vektor_1[1]**2), vektor_1[2]], [np.sqrt(vektor_2[0]**2+vektor_2[1]**2), vektor_2[2]]])"
   ]
  },
  {
   "cell_type": "code",
   "execution_count": 52,
   "metadata": {},
   "outputs": [
    {
     "data": {
      "text/plain": [
       "array([[ 0.26961931,  1.25266022],\n",
       "       [-0.13932251,  1.12409494],\n",
       "       [-0.12959487,  1.22324484]])"
      ]
     },
     "execution_count": 52,
     "metadata": {},
     "output_type": "execute_result"
    }
   ],
   "source": [
    "vozlisca"
   ]
  },
  {
   "cell_type": "code",
   "execution_count": 44,
   "metadata": {},
   "outputs": [
    {
     "data": {
      "text/plain": [
       "(np.float64(-71.41375201095987),\n",
       " np.float64(-62.82950370536553),\n",
       " np.float64(-70.0152630003184),\n",
       " np.float64(-133.81917544523256),\n",
       " np.float64(-144.3134567112014),\n",
       " np.float64(-136.7308548141921))"
      ]
     },
     "execution_count": 44,
     "metadata": {},
     "output_type": "execute_result"
    }
   ],
   "source": [
    "calculate_angles(vozlisca, 0.7, 0.775, 0.55)"
   ]
  },
  {
   "cell_type": "code",
   "execution_count": null,
   "metadata": {},
   "outputs": [],
   "source": [
    "calculate_angles(vozlisca, 0.7, 0.775, 0.55)"
   ]
  },
  {
   "cell_type": "code",
   "execution_count": 27,
   "metadata": {},
   "outputs": [],
   "source": [
    "def calculate_angles(vertices=list, l_1=float, l_2=float, b=float):\n",
    "    '''Izračuna kote glede na podana vozlišča.\n",
    "\n",
    "    vertices - matrika točk v x-z ravnini oblike [[x1, z1], [x2, z2], [x3, z3]], l_1 - dolžina spodnje roke, l_2 - dolžina zgornje roke, b - radij sponjega kroga.\n",
    "\n",
    "    '''\n",
    "    A_1 = 2*l_1*np.cos(0)*(-vertices[0][0] + b*np.cos(0))\n",
    "    A_2 = 2*l_1*np.cos(2*np.pi/3)*(-vertices[1][0] + b*np.cos(2*np.pi/3))\n",
    "    A_3 = 2*l_1*np.cos(4*np.pi/3)*(-vertices[2][0] + b*np.cos(4*np.pi/3))\n",
    "\n",
    "    B_1 = 2*l_1*vertices[0][1]*np.cos(0)**2\n",
    "    B_2 = 2*l_1*vertices[1][1]*np.cos(2*np.pi/3)**2\n",
    "    B_3 = 2*l_1*vertices[2][1]*np.cos(4*np.pi/3)**2\n",
    "\n",
    "    C_1 = vertices[0][0]**2-2*b*vertices[0][0]*np.cos(0)+np.cos(0)**2*(b**2+l_1**2-l_2**2+vertices[0][1]**2)\n",
    "    C_2 = vertices[1][0]**2-2*b*vertices[1][0]*np.cos(2*np.pi/3)+np.cos(2*np.pi/3)**2*(b**2+l_1**2-l_2**2+vertices[1][1]**2)\n",
    "    C_3 = vertices[2][0]**2-2*b*vertices[2][0]*np.cos(4*np.pi/3)+np.cos(4*np.pi/3)**2*(b**2+l_1**2-l_2**2+vertices[2][1]**2)\n",
    "\n",
    "    En_1_m = 2*np.atan2(-B_1-np.sqrt(A_1**2+B_1**2-C_1**2), C_1-A_1)\n",
    "    En_1_p = 2*np.atan2(-B_1+np.sqrt(A_1**2+B_1**2-C_1**2), C_1-A_1)\n",
    "    En_2_p = 2*np.atan2(-B_2+np.sqrt(A_2**2+B_2**2-C_2**2), C_2-A_2)\n",
    "    En_2_m = 2*np.atan2(-B_2-np.sqrt(A_2**2+B_2**2-C_2**2), C_2-A_2)\n",
    "    En_3_p = 2*np.atan2(-B_3+np.sqrt(A_3**2+B_3**2-C_3**2), C_3-A_3)\n",
    "    En_3_m = 2*np.atan2(-B_3-np.sqrt(A_3**2+B_3**2-C_3**2), C_3-A_3)\n",
    "\n",
    "    return np.rad2deg(En_1_p), np.rad2deg(En_2_p), np.rad2deg(En_3_p), np.rad2deg(En_1_m), np.rad2deg(En_2_m), np.rad2deg(En_3_m)"
   ]
  },
  {
   "cell_type": "code",
   "execution_count": 135,
   "metadata": {},
   "outputs": [
    {
     "ename": "ImportError",
     "evalue": "cannot import name 'izracun_kotov' from 'funkcije' (c:\\David\\Paralelni_manipulator\\dinamski_model\\funkcije.py)",
     "output_type": "error",
     "traceback": [
      "\u001b[1;31m---------------------------------------------------------------------------\u001b[0m",
      "\u001b[1;31mImportError\u001b[0m                               Traceback (most recent call last)",
      "Cell \u001b[1;32mIn[135], line 1\u001b[0m\n\u001b[1;32m----> 1\u001b[0m \u001b[38;5;28;01mfrom\u001b[39;00m \u001b[38;5;21;01mfunkcije\u001b[39;00m \u001b[38;5;28;01mimport\u001b[39;00m izracun_kotov\n",
      "\u001b[1;31mImportError\u001b[0m: cannot import name 'izracun_kotov' from 'funkcije' (c:\\David\\Paralelni_manipulator\\dinamski_model\\funkcije.py)"
     ]
    }
   ],
   "source": [
    "from funkcije import izracun_kotov\n"
   ]
  },
  {
   "cell_type": "code",
   "execution_count": null,
   "metadata": {},
   "outputs": [],
   "source": []
  }
 ],
 "metadata": {
  "kernelspec": {
   "display_name": ".venv",
   "language": "python",
   "name": "python3"
  },
  "language_info": {
   "codemirror_mode": {
    "name": "ipython",
    "version": 3
   },
   "file_extension": ".py",
   "mimetype": "text/x-python",
   "name": "python",
   "nbconvert_exporter": "python",
   "pygments_lexer": "ipython3",
   "version": "3.11.1"
  }
 },
 "nbformat": 4,
 "nbformat_minor": 2
}
