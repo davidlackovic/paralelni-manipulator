{
 "cells": [
  {
   "cell_type": "code",
   "execution_count": 1,
   "metadata": {},
   "outputs": [],
   "source": [
    "import sympy as sym"
   ]
  },
  {
   "cell_type": "code",
   "execution_count": 8,
   "metadata": {},
   "outputs": [],
   "source": [
    "l_1, l_2, b, p = sym.symbols('l_1, l_2, b, p')"
   ]
  },
  {
   "cell_type": "code",
   "execution_count": 57,
   "metadata": {},
   "outputs": [],
   "source": [
    "O_74x, O_74z, O_75x, O_75z, O_76x, O_76z = sym.symbols('O_74x, O_74z, O_75x, O_75z, O_76x, O_76z')"
   ]
  },
  {
   "cell_type": "code",
   "execution_count": 58,
   "metadata": {},
   "outputs": [],
   "source": [
    "alfa_11, alfa_12, alfa_13 = sym.symbols('alpha_11, alpha_12, alpha_13')"
   ]
  },
  {
   "cell_type": "code",
   "execution_count": 59,
   "metadata": {},
   "outputs": [],
   "source": [
    "theta_1, theta_2, theta_3 = sym.symbols('theta_1, theta_2, theta_3')"
   ]
  },
  {
   "cell_type": "code",
   "execution_count": 60,
   "metadata": {},
   "outputs": [
    {
     "data": {
      "text/latex": [
       "$\\displaystyle 2 l_{1} \\left(- O_{75x} + b \\cos{\\left(\\alpha_{12} \\right)}\\right) \\cos{\\left(\\alpha_{12} \\right)}$"
      ],
      "text/plain": [
       "2*l_1*(-O_75x + b*cos(alpha_12))*cos(alpha_12)"
      ]
     },
     "execution_count": 60,
     "metadata": {},
     "output_type": "execute_result"
    }
   ],
   "source": [
    "A_1 = 2*l_1*sym.cos(alfa_11)*(-O_74x + b*sym.cos(alfa_11))\n",
    "A_2 = 2*l_1*sym.cos(alfa_12)*(-O_75x + b*sym.cos(alfa_12))\n",
    "A_3 = 2*l_1*sym.cos(alfa_13)*(-O_76x + b*sym.cos(alfa_13))\n",
    "A_2"
   ]
  },
  {
   "cell_type": "code",
   "execution_count": 61,
   "metadata": {},
   "outputs": [
    {
     "data": {
      "text/latex": [
       "$\\displaystyle 2 O_{74z} l_{1} \\cos^{2}{\\left(\\alpha_{11} \\right)}$"
      ],
      "text/plain": [
       "2*O_74z*l_1*cos(alpha_11)**2"
      ]
     },
     "execution_count": 61,
     "metadata": {},
     "output_type": "execute_result"
    }
   ],
   "source": [
    "B_1 = 2*l_1*O_74z*sym.cos(alfa_11)**2\n",
    "B_2 = 2*l_1*O_75z*sym.cos(alfa_12)**2\n",
    "B_3 = 2*l_1*O_76z*sym.cos(alfa_13)**2\n",
    "B_1"
   ]
  },
  {
   "cell_type": "code",
   "execution_count": 68,
   "metadata": {},
   "outputs": [
    {
     "data": {
      "text/latex": [
       "$\\displaystyle O_{74x}^{2} - 2 O_{74x} b \\cos{\\left(\\alpha_{11} \\right)} + \\left(O_{74z}^{2} + b^{2} + l_{1}^{2} - l_{2}^{2}\\right) \\cos^{2}{\\left(\\alpha_{11} \\right)}$"
      ],
      "text/plain": [
       "O_74x**2 - 2*O_74x*b*cos(alpha_11) + (O_74z**2 + b**2 + l_1**2 - l_2**2)*cos(alpha_11)**2"
      ]
     },
     "execution_count": 68,
     "metadata": {},
     "output_type": "execute_result"
    }
   ],
   "source": [
    "C_1 = O_74x**2-2*b*O_74x*sym.cos(alfa_11)+sym.cos(alfa_11)**2*(b**2+l_1**2-l_2**2+O_74z**2)\n",
    "C_2 = O_75x**2-2*b*O_75x*sym.cos(alfa_12)+sym.cos(alfa_12)**2*(b**2+l_1**2-l_2**2+O_75z**2)\n",
    "C_3 = O_76x**2-2*b*O_76x*sym.cos(alfa_13)+sym.cos(alfa_13)**2*(b**2+l_1**2-l_2**2+O_76z**2)\n",
    "C_1"
   ]
  },
  {
   "cell_type": "code",
   "execution_count": 69,
   "metadata": {},
   "outputs": [],
   "source": [
    "En_1_p = sym.Eq(theta_1, 2*sym.atan2(-B_1+sym.sqrt(A_1**2+B_1**2-C_1**2), C_1-A_1))\n",
    "En_1_m = sym.Eq(theta_1, 2*sym.atan2(-B_1-sym.sqrt(A_1**2+B_1**2-C_1**2), C_1-A_1))\n",
    "En_2_p = sym.Eq(theta_2, 2*sym.atan2(-B_2+sym.sqrt(A_2**2+B_2**2-C_2**2), C_2-A_2))\n",
    "En_2_m = sym.Eq(theta_2, 2*sym.atan2(-B_2-sym.sqrt(A_2**2+B_2**2-C_2**2), C_2-A_2))\n",
    "En_3_p = sym.Eq(theta_3, 2*sym.atan2(-B_3+sym.sqrt(A_3**2+B_3**2-C_3**2), C_3-A_3))\n",
    "En_3_m = sym.Eq(theta_3, 2*sym.atan2(-B_3-sym.sqrt(A_3**2+B_3**2-C_3**2), C_3-A_3))"
   ]
  },
  {
   "cell_type": "code",
   "execution_count": 71,
   "metadata": {},
   "outputs": [
    {
     "data": {
      "text/latex": [
       "$\\displaystyle \\theta_{1} = -0.677739008942779$"
      ],
      "text/plain": [
       "Eq(theta_1, -0.677739008942779)"
      ]
     },
     "execution_count": 71,
     "metadata": {},
     "output_type": "execute_result"
    }
   ],
   "source": [
    "En_1_p.subs([(l_1, 0.2), (l_2, 0.234), (alfa_11, 0), (O_74x, 0.15), (O_74z, 0.3), (b, 0.15), (p,0.15)])"
   ]
  },
  {
   "cell_type": "code",
   "execution_count": 73,
   "metadata": {},
   "outputs": [
    {
     "data": {
      "text/latex": [
       "$\\displaystyle \\theta_{1} = -2.46385364464701$"
      ],
      "text/plain": [
       "Eq(theta_1, -2.46385364464701)"
      ]
     },
     "execution_count": 73,
     "metadata": {},
     "output_type": "execute_result"
    }
   ],
   "source": [
    "En_1_m.subs([(l_1, 0.2), (l_2, 0.234), (alfa_11, 0), (O_74x, 0.15), (O_74z, 0.3), (b, 0.15), (p,0.15)])"
   ]
  },
  {
   "cell_type": "code",
   "execution_count": null,
   "metadata": {},
   "outputs": [],
   "source": []
  }
 ],
 "metadata": {
  "kernelspec": {
   "display_name": ".venv",
   "language": "python",
   "name": "python3"
  },
  "language_info": {
   "codemirror_mode": {
    "name": "ipython",
    "version": 3
   },
   "file_extension": ".py",
   "mimetype": "text/x-python",
   "name": "python",
   "nbconvert_exporter": "python",
   "pygments_lexer": "ipython3",
   "version": "3.11.1"
  }
 },
 "nbformat": 4,
 "nbformat_minor": 2
}
