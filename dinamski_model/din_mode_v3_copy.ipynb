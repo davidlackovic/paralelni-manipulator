{
 "cells": [
  {
   "cell_type": "code",
   "execution_count": 133,
   "metadata": {},
   "outputs": [],
   "source": [
    "import sympy as sym"
   ]
  },
  {
   "cell_type": "code",
   "execution_count": 134,
   "metadata": {},
   "outputs": [],
   "source": [
    "l_1, l_2, b, p = sym.symbols('l_1, l_2, b, p')"
   ]
  },
  {
   "cell_type": "code",
   "execution_count": 172,
   "metadata": {},
   "outputs": [],
   "source": [
    "O_74x, O_74z, O_75x, O_75z, O_76x, O_76z = sym.symbols('O_74x, O_74z, O_75x, O_75z, O_76z, O_76z')"
   ]
  },
  {
   "cell_type": "code",
   "execution_count": 173,
   "metadata": {},
   "outputs": [],
   "source": [
    "alfa_11, alfa_12, alfa_13 = sym.symbols('alpha_11, alpha_12, alpha_13')"
   ]
  },
  {
   "cell_type": "code",
   "execution_count": 174,
   "metadata": {},
   "outputs": [],
   "source": [
    "theta_1, theta_2, theta_3 = sym.symbols('theta_1, theta_2, theta_3')"
   ]
  },
  {
   "cell_type": "code",
   "execution_count": 220,
   "metadata": {},
   "outputs": [
    {
     "data": {
      "text/latex": [
       "$\\displaystyle 2.0 l_{1} \\left(- O_{75x} + b \\cos{\\left(\\alpha_{12} \\right)}\\right) \\cos{\\left(\\alpha_{12} \\right)}$"
      ],
      "text/plain": [
       "2.0*l_1*(-O_75x + b*cos(alpha_12))*cos(alpha_12)"
      ]
     },
     "execution_count": 220,
     "metadata": {},
     "output_type": "execute_result"
    }
   ],
   "source": [
    "A_1 = 2.0*l_1*sym.cos(alfa_11)*(-O_74x + b*sym.cos(alfa_11))\n",
    "A_2 = 2.0*l_1*sym.cos(alfa_12)*(-O_75x + b*sym.cos(alfa_12))\n",
    "A_3 = 2.0*l_1*sym.cos(alfa_13)*(-O_76x + b*sym.cos(alfa_13))\n",
    "A_2"
   ]
  },
  {
   "cell_type": "code",
   "execution_count": 221,
   "metadata": {},
   "outputs": [
    {
     "data": {
      "text/latex": [
       "$\\displaystyle 2.0 O_{74z} l_{1} \\cos^{2}{\\left(\\alpha_{11} \\right)}$"
      ],
      "text/plain": [
       "2.0*O_74z*l_1*cos(alpha_11)**2"
      ]
     },
     "execution_count": 221,
     "metadata": {},
     "output_type": "execute_result"
    }
   ],
   "source": [
    "B_1 = 2.0*l_1*O_74z*sym.cos(alfa_11)**2\n",
    "B_2 = 2.0*l_1*O_75z*sym.cos(alfa_12)**2\n",
    "B_3 = 2.0*l_1*O_76z*sym.cos(alfa_13)**2\n",
    "B_1"
   ]
  },
  {
   "cell_type": "code",
   "execution_count": 222,
   "metadata": {},
   "outputs": [
    {
     "data": {
      "text/latex": [
       "$\\displaystyle O_{74x}^{2} - 2.0 O_{74x} b \\cos{\\left(\\alpha_{11} \\right)} + \\left(O_{74z}^{2} + b^{2} + l_{1}^{2} - l_{2}^{2}\\right) \\cos^{2}{\\left(\\alpha_{11} \\right)}$"
      ],
      "text/plain": [
       "O_74x**2 - 2.0*O_74x*b*cos(alpha_11) + (O_74z**2 + b**2 + l_1**2 - l_2**2)*cos(alpha_11)**2"
      ]
     },
     "execution_count": 222,
     "metadata": {},
     "output_type": "execute_result"
    }
   ],
   "source": [
    "C_1 = O_74x**2-2.0*b*O_74x*sym.cos(alfa_11)+sym.cos(alfa_11)**2*(b**2+l_1**2-l_2**2+O_74z**2)\n",
    "C_2 = O_75x**2-2.0*b*O_75x*sym.cos(alfa_12)+sym.cos(alfa_12)**2*(b**2+l_1**2-l_2**2+O_75z**2)\n",
    "C_3 = O_76x**2-2.0*b*O_76x*sym.cos(alfa_13)+sym.cos(alfa_13)**2*(b**2+l_1**2-l_2**2+O_76z**2)\n",
    "C_1"
   ]
  },
  {
   "cell_type": "code",
   "execution_count": 223,
   "metadata": {},
   "outputs": [],
   "source": [
    "A_1s, A_2s, A_3s, B_1s, B_2s, B_3s, C_1s, C_2s, C_3s = sym.symbols('A_1, A_2, A_3, B_1, B_2, B_3, C_1, C_2, C_3')"
   ]
  },
  {
   "cell_type": "code",
   "execution_count": 224,
   "metadata": {},
   "outputs": [],
   "source": [
    "En_1_p = sym.Eq(theta_1, 2.0*sym.atan2(-B_1s+sym.sqrt(A_1s**2+B_1s**2-C_1s**2), C_1s-A_1s))\n",
    "En_1_m = sym.Eq(theta_1, 2.0*sym.atan2(-B_1s-sym.sqrt(A_1s**2+B_1s**2-C_1s**2), C_1s-A_1s))\n",
    "En_2_p = sym.Eq(theta_2, 2.0*sym.atan2(-B_2s+sym.sqrt(A_2s**2+B_2s**2-C_2s**2), C_2s-A_2s))\n",
    "En_2_m = sym.Eq(theta_2, 2.0*sym.atan2(-B_2s-sym.sqrt(A_2s**2+B_2s**2-C_2s**2), C_2s-A_2s))\n",
    "En_3_p = sym.Eq(theta_3, 2.0*sym.atan2(-B_3s+sym.sqrt(A_3s**2+B_3s**2-C_3s**2), C_3s-A_3s))\n",
    "En_3_m = sym.Eq(theta_3, 2.0*sym.atan2(-B_3s-sym.sqrt(A_3s**2+B_3s**2-C_3s**2), C_3s-A_3s))\n",
    "\n",
    "    En_1_m = 2*np.atan2(-B_1-np.sqrt(A_1**2+B_1**2-C_1**2), C_1-A_1)\n",
    "    En_1_p = 2*np.atan2(-B_1+np.sqrt(A_1**2+B_1**2-C_1**2), C_1-A_1)\n",
    "    En_2_p = 2*np.atan2(-B_2+np.sqrt(A_2**2+B_2**2-C_2**2), C_2-A_2)\n",
    "    En_2_m = 2*np.atan2(-B_2-np.sqrt(A_2**2+B_2**2-C_2**2), C_2-A_2)\n",
    "    En_3_p = 2*np.atan2(-B_3+np.sqrt(A_3**2+B_3**2-C_3**2), C_3-A_3)\n",
    "    En_3_m = 2*np.atan2(-B_3-np.sqrt(A_3**2+B_3**2-C_3**2), C_3-A_3)   "
   ]
  },
  {
   "cell_type": "code",
   "execution_count": 333,
   "metadata": {},
   "outputs": [
    {
     "data": {
      "text/latex": [
       "$\\displaystyle 1.08728013633491$"
      ],
      "text/plain": [
       "1.08728013633491"
      ]
     },
     "execution_count": 333,
     "metadata": {},
     "output_type": "execute_result"
    }
   ],
   "source": [
    "(A_1**2+B_1**2-C_1**2).subs([(l_1, 0.7), (l_2, 0.775), (alfa_11, 0), (O_74x, x_1), (O_74z, z_1), (b, 0.55), (p,0.275)])"
   ]
  },
  {
   "cell_type": "code",
   "execution_count": 334,
   "metadata": {},
   "outputs": [
    {
     "data": {
      "text/latex": [
       "$\\displaystyle -0.0691376522600468$"
      ],
      "text/plain": [
       "-0.0691376522600468"
      ]
     },
     "execution_count": 334,
     "metadata": {},
     "output_type": "execute_result"
    }
   ],
   "source": [
    "(A_2**2+B_2**2-C_2**2).subs([(l_1, 0.7), (l_2, 0.775), (alfa_12, 2*sym.pi/3), (O_75x, x_2), (O_75z, z_2), (b, 0.55), (p,0.275)])"
   ]
  },
  {
   "cell_type": "code",
   "execution_count": 335,
   "metadata": {},
   "outputs": [
    {
     "data": {
      "text/latex": [
       "$\\displaystyle 0.0722493146559162$"
      ],
      "text/plain": [
       "0.0722493146559162"
      ]
     },
     "execution_count": 335,
     "metadata": {},
     "output_type": "execute_result"
    }
   ],
   "source": [
    "(A_3**2+B_3**2-C_3**2).subs([(l_1, 0.7), (l_2, 0.775), (alfa_13, 4*sym.pi/3), (O_76x, x_3), (O_76z, z_3), (b, 0.55), (p,0.275)])"
   ]
  },
  {
   "cell_type": "code",
   "execution_count": 225,
   "metadata": {},
   "outputs": [
    {
     "data": {
      "text/latex": [
       "$\\displaystyle 2.0 l_{1} \\left(- O_{75x} + b \\cos{\\left(\\alpha_{12} \\right)}\\right) \\cos{\\left(\\alpha_{12} \\right)}$"
      ],
      "text/plain": [
       "2.0*l_1*(-O_75x + b*cos(alpha_12))*cos(alpha_12)"
      ]
     },
     "execution_count": 225,
     "metadata": {},
     "output_type": "execute_result"
    }
   ],
   "source": [
    "A_2"
   ]
  },
  {
   "cell_type": "code",
   "execution_count": 226,
   "metadata": {},
   "outputs": [
    {
     "data": {
      "text/latex": [
       "$\\displaystyle \\theta_{2} = 2.0 \\operatorname{atan}_{2}{\\left(- B_{2} + \\sqrt{A_{2}^{2} + B_{2}^{2} - C_{2}^{2}},- A_{2} + C_{2} \\right)}$"
      ],
      "text/plain": [
       "Eq(theta_2, 2.0*atan2(-B_2 + sqrt(A_2**2 + B_2**2 - C_2**2), -A_2 + C_2))"
      ]
     },
     "execution_count": 226,
     "metadata": {},
     "output_type": "execute_result"
    }
   ],
   "source": [
    "En_2_p "
   ]
  },
  {
   "cell_type": "code",
   "execution_count": 227,
   "metadata": {},
   "outputs": [
    {
     "data": {
      "text/latex": [
       "$\\displaystyle \\theta_{1} = 2.0 \\operatorname{atan}_{2}{\\left(- 2.0 O_{74z} l_{1} \\cos^{2}{\\left(\\alpha_{11} \\right)} + 2.0 \\sqrt{1.0 O_{74z}^{2} l_{1}^{2} \\cos^{4}{\\left(\\alpha_{11} \\right)} + l_{1}^{2} \\left(- O_{74x} + b \\cos{\\left(\\alpha_{11} \\right)}\\right)^{2} \\cos^{2}{\\left(\\alpha_{11} \\right)} - 1.0 \\left(0.5 O_{74x}^{2} - O_{74x} b \\cos{\\left(\\alpha_{11} \\right)} + 0.5 \\left(O_{74z}^{2} + b^{2} + l_{1}^{2} - l_{2}^{2}\\right) \\cos^{2}{\\left(\\alpha_{11} \\right)}\\right)^{2}},O_{74x}^{2} - 2.0 O_{74x} b \\cos{\\left(\\alpha_{11} \\right)} - 2.0 l_{1} \\left(- O_{74x} + b \\cos{\\left(\\alpha_{11} \\right)}\\right) \\cos{\\left(\\alpha_{11} \\right)} + \\left(O_{74z}^{2} + b^{2} + l_{1}^{2} - l_{2}^{2}\\right) \\cos^{2}{\\left(\\alpha_{11} \\right)} \\right)}$"
      ],
      "text/plain": [
       "Eq(theta_1, 2.0*atan2(-2.0*O_74z*l_1*cos(alpha_11)**2 + 2.0*sqrt(1.0*O_74z**2*l_1**2*cos(alpha_11)**4 + l_1**2*(-O_74x + b*cos(alpha_11))**2*cos(alpha_11)**2 - 1.0*(0.5*O_74x**2 - O_74x*b*cos(alpha_11) + 0.5*(O_74z**2 + b**2 + l_1**2 - l_2**2)*cos(alpha_11)**2)**2), O_74x**2 - 2.0*O_74x*b*cos(alpha_11) - 2.0*l_1*(-O_74x + b*cos(alpha_11))*cos(alpha_11) + (O_74z**2 + b**2 + l_1**2 - l_2**2)*cos(alpha_11)**2))"
      ]
     },
     "execution_count": 227,
     "metadata": {},
     "output_type": "execute_result"
    }
   ],
   "source": [
    "En_1_p.subs([(l_1, 0.7), (l_2, 0.775), (alfa_11, 0), (O_74x, x_1), (O_74z, z_1), (b, 0.55), (p,0.275), (A_1s, A_1), (B_1s, B_1), (C_1s, C_1)])"
   ]
  },
  {
   "cell_type": "code",
   "execution_count": 228,
   "metadata": {},
   "outputs": [
    {
     "data": {
      "text/latex": [
       "$\\displaystyle \\theta_{2} = 2.0 \\operatorname{atan}_{2}{\\left(- 2.0 O_{75z} l_{1} \\cos^{2}{\\left(\\alpha_{12} \\right)} + 2.0 \\sqrt{1.0 O_{75z}^{2} l_{1}^{2} \\cos^{4}{\\left(\\alpha_{12} \\right)} + l_{1}^{2} \\left(- O_{75x} + b \\cos{\\left(\\alpha_{12} \\right)}\\right)^{2} \\cos^{2}{\\left(\\alpha_{12} \\right)} - 1.0 \\left(0.5 O_{75x}^{2} - O_{75x} b \\cos{\\left(\\alpha_{12} \\right)} + 0.5 \\left(O_{75z}^{2} + b^{2} + l_{1}^{2} - l_{2}^{2}\\right) \\cos^{2}{\\left(\\alpha_{12} \\right)}\\right)^{2}},O_{75x}^{2} - 2.0 O_{75x} b \\cos{\\left(\\alpha_{12} \\right)} - 2.0 l_{1} \\left(- O_{75x} + b \\cos{\\left(\\alpha_{12} \\right)}\\right) \\cos{\\left(\\alpha_{12} \\right)} + \\left(O_{75z}^{2} + b^{2} + l_{1}^{2} - l_{2}^{2}\\right) \\cos^{2}{\\left(\\alpha_{12} \\right)} \\right)}$"
      ],
      "text/plain": [
       "Eq(theta_2, 2.0*atan2(-2.0*O_75z*l_1*cos(alpha_12)**2 + 2.0*sqrt(1.0*O_75z**2*l_1**2*cos(alpha_12)**4 + l_1**2*(-O_75x + b*cos(alpha_12))**2*cos(alpha_12)**2 - 1.0*(0.5*O_75x**2 - O_75x*b*cos(alpha_12) + 0.5*(O_75z**2 + b**2 + l_1**2 - l_2**2)*cos(alpha_12)**2)**2), O_75x**2 - 2.0*O_75x*b*cos(alpha_12) - 2.0*l_1*(-O_75x + b*cos(alpha_12))*cos(alpha_12) + (O_75z**2 + b**2 + l_1**2 - l_2**2)*cos(alpha_12)**2))"
      ]
     },
     "execution_count": 228,
     "metadata": {},
     "output_type": "execute_result"
    }
   ],
   "source": [
    "En_2_p.subs([(l_1, 0.7), (l_2, 0.775), (alfa_12, 2*sym.pi/3), (O_75x, x_2), (O_75z, z_2), (b, 0.55), (p,0.275), (A_2s, A_2), (B_2s, B_2), (C_2s, C_2)]).evalf()"
   ]
  },
  {
   "cell_type": "code",
   "execution_count": 229,
   "metadata": {},
   "outputs": [
    {
     "data": {
      "text/latex": [
       "$\\displaystyle \\theta_{3} = 2.0 \\operatorname{atan}_{2}{\\left(- 2.0 O_{76z} l_{1} \\cos^{2}{\\left(\\alpha_{13} \\right)} + 2.0 \\sqrt{1.0 O_{76z}^{2} l_{1}^{2} \\cos^{4}{\\left(\\alpha_{13} \\right)} + l_{1}^{2} \\left(- O_{76z} + b \\cos{\\left(\\alpha_{13} \\right)}\\right)^{2} \\cos^{2}{\\left(\\alpha_{13} \\right)} - 1.0 \\left(0.5 O_{76z}^{2} - O_{76z} b \\cos{\\left(\\alpha_{13} \\right)} + 0.5 \\left(O_{76z}^{2} + b^{2} + l_{1}^{2} - l_{2}^{2}\\right) \\cos^{2}{\\left(\\alpha_{13} \\right)}\\right)^{2}},O_{76z}^{2} - 2.0 O_{76z} b \\cos{\\left(\\alpha_{13} \\right)} - 2.0 l_{1} \\left(- O_{76z} + b \\cos{\\left(\\alpha_{13} \\right)}\\right) \\cos{\\left(\\alpha_{13} \\right)} + \\left(O_{76z}^{2} + b^{2} + l_{1}^{2} - l_{2}^{2}\\right) \\cos^{2}{\\left(\\alpha_{13} \\right)} \\right)}$"
      ],
      "text/plain": [
       "Eq(theta_3, 2.0*atan2(-2.0*O_76z*l_1*cos(alpha_13)**2 + 2.0*sqrt(1.0*O_76z**2*l_1**2*cos(alpha_13)**4 + l_1**2*(-O_76z + b*cos(alpha_13))**2*cos(alpha_13)**2 - 1.0*(0.5*O_76z**2 - O_76z*b*cos(alpha_13) + 0.5*(O_76z**2 + b**2 + l_1**2 - l_2**2)*cos(alpha_13)**2)**2), O_76z**2 - 2.0*O_76z*b*cos(alpha_13) - 2.0*l_1*(-O_76z + b*cos(alpha_13))*cos(alpha_13) + (O_76z**2 + b**2 + l_1**2 - l_2**2)*cos(alpha_13)**2))"
      ]
     },
     "execution_count": 229,
     "metadata": {},
     "output_type": "execute_result"
    }
   ],
   "source": [
    "En_3_p.subs([(l_1, 0.7), (l_2, 0.775), (alfa_13, 4*sym.pi/3), (O_76x, x_3), (O_76z, z_3), (b, 0.55), (p,0.275), (A_3s, A_3),(B_3s, B_3), (C_3s, C_3)])\n"
   ]
  },
  {
   "cell_type": "code",
   "execution_count": 357,
   "metadata": {},
   "outputs": [],
   "source": [
    "x_1 = 0.275\n",
    "x_2 = 0.275\n",
    "x_3 = 0.275\n",
    "z_1 = 1.2\n",
    "z_2 = 1.2\n",
    "z_3 = 1.2\n",
    "\n",
    "#(array([0.26951831, 1.14536593]), array([0.26494343, 1.27368838]), array([0.27433908, 1.18094568]))\n",
    "\n",
    "\n"
   ]
  },
  {
   "cell_type": "code",
   "execution_count": 358,
   "metadata": {},
   "outputs": [
    {
     "data": {
      "text/latex": [
       "$\\displaystyle 0.174056$"
      ],
      "text/plain": [
       "0.174056000000000"
      ]
     },
     "execution_count": 358,
     "metadata": {},
     "output_type": "execute_result"
    }
   ],
   "source": [
    "A_2.subs([(l_1, 0.2), (l_2, 0.234), (alfa_12, 0), (O_75x, x_2), (O_75z, z_2), (b, 0.71014), (p,0.1875)])"
   ]
  },
  {
   "cell_type": "code",
   "execution_count": 359,
   "metadata": {},
   "outputs": [
    {
     "data": {
      "text/latex": [
       "$\\displaystyle 1.6145908196$"
      ],
      "text/plain": [
       "1.61459081960000"
      ]
     },
     "execution_count": 359,
     "metadata": {},
     "output_type": "execute_result"
    }
   ],
   "source": [
    "C_2.subs([(l_1, 0.2), (l_2, 0.234), (alfa_12, 0), (O_75x, x_2), (O_75z, z_2), (b, 0.71014), (p,0.1875)])"
   ]
  },
  {
   "cell_type": "code",
   "execution_count": 355,
   "metadata": {},
   "outputs": [
    {
     "data": {
      "text/plain": [
       "(array([0.275, 1.2  ]), array([0.275, 1.2  ]), array([0.275, 1.2  ]))"
      ]
     },
     "execution_count": 355,
     "metadata": {},
     "output_type": "execute_result"
    }
   ],
   "source": [
    "calculate_vertices(0.275, 1.2, -0.0, 0.0)"
   ]
  },
  {
   "cell_type": "code",
   "execution_count": 330,
   "metadata": {},
   "outputs": [
    {
     "data": {
      "text/plain": [
       "np.float64(0.2743390840321245)"
      ]
     },
     "execution_count": 330,
     "metadata": {},
     "output_type": "execute_result"
    }
   ],
   "source": [
    "calculate_vertices(0.275, 1.2, -0.2, 0.2)[1][0]"
   ]
  },
  {
   "cell_type": "code",
   "execution_count": 351,
   "metadata": {},
   "outputs": [],
   "source": [
    "import numpy as np\n",
    "\n",
    "def calculate_vertices(p, h, omega_x, omega_y):\n",
    "    '''Izračuna lege vozlišc.\n",
    "    \n",
    "    \n",
    "    p - radij zgornjega kroga,\n",
    "    h - višina centra zgornjega kroga,\n",
    "    omega_x - zasuk okoli x-osi,\n",
    "    omega_y - zasuk okoli y-osi.\n",
    "       \n",
    "       \n",
    "       \n",
    "       \n",
    "    '''\n",
    "    A1 = np.array([p, 0, 0])\n",
    "    A2 = np.array([p * np.cos(2 * np.pi / 3), p * np.sin(2 * np.pi / 3), 0])\n",
    "    A3 = np.array([p * np.cos(4 * np.pi / 3), p * np.sin(4 * np.pi / 3), 0])\n",
    "    \n",
    "    translacija = np.array([0, 0, h])\n",
    "    \n",
    "    \n",
    "    Rx = np.array([\n",
    "        [1, 0, 0],\n",
    "        [0, np.cos(omega_x), -np.sin(omega_x)],\n",
    "        [0, np.sin(omega_x), np.cos(omega_x)]\n",
    "    ])\n",
    "    \n",
    "    Ry = np.array([\n",
    "        [np.cos(omega_y), 0, np.sin(omega_y)],\n",
    "        [0, 1, 0],\n",
    "        [-np.sin(omega_y), 0, np.cos(omega_y)]\n",
    "    ])\n",
    "    \n",
    "    R = np.dot(Ry, Rx)\n",
    "    \n",
    "    A1_rot = np.dot(R, A1)\n",
    "    A2_rot = np.dot(R, A2)\n",
    "    A3_rot = np.dot(R, A3)\n",
    "\n",
    "    A1_rot += translacija\n",
    "    A2_rot += translacija\n",
    "    A3_rot += translacija\n",
    "\n",
    "    A1_out = np.array([np.sqrt(A1_rot[0]**2+A1_rot[1]**2), A1_rot[2]])\n",
    "    A2_out = np.array([np.sqrt(A2_rot[0]**2+A2_rot[1]**2), A2_rot[2]])\n",
    "    A3_out = np.array([np.sqrt(A3_rot[0]**2+A3_rot[1]**2), A3_rot[2]])\n",
    "    \n",
    "    \n",
    "    return A1_out, A2_out, A3_out"
   ]
  },
  {
   "cell_type": "code",
   "execution_count": 364,
   "metadata": {},
   "outputs": [],
   "source": [
    "def calculate_angles(vertices=list, l_1=float, l_2=float, b=float):\n",
    "    '''Izračuna kote glede na podana vozlišča.\n",
    "\n",
    "    vertices - matrika točk v x-z ravnini oblike [[x1, z1], [x2, z2], [x3, z3]], l_1 - dolžina spodnje roke, l_2 - dolžina zgornje roke, b - radij spodnjega kroga.\n",
    "\n",
    "    '''\n",
    "    A_1 = 2*l_1*np.cos(0)*(-vertices[0][0] + b*np.cos(0))\n",
    "    A_2 = 2*l_1*np.cos(2*np.pi/3)*(-vertices[1][0] + b*np.cos(2*np.pi/3))\n",
    "    A_3 = 2*l_1*np.cos(4*np.pi/3)*(-vertices[2][0] + b*np.cos(4*np.pi/3))\n",
    "\n",
    "    B_1 = 2*l_1*vertices[0][1]*np.cos(0)**2\n",
    "    B_2 = 2*l_1*vertices[1][1]*np.cos(2*np.pi/3)**2\n",
    "    B_3 = 2*l_1*vertices[2][1]*np.cos(4*np.pi/3)**2\n",
    "\n",
    "    C_1 = vertices[0][0]**2-2*b*vertices[0][0]*np.cos(0)+np.cos(0)**2*(b**2+l_1**2-l_2**2+vertices[0][1]**2)\n",
    "    C_2 = vertices[1][0]**2-2*b*vertices[1][0]*np.cos(2*np.pi/3)+np.cos(2*np.pi/3)**2*(b**2+l_1**2-l_2**2+vertices[1][1]**2)\n",
    "    C_3 = vertices[2][0]**2-2*b*vertices[2][0]*np.cos(4*np.pi/3)+np.cos(4*np.pi/3)**2*(b**2+l_1**2-l_2**2+vertices[2][1]**2)\n",
    "\n",
    "    En_1_m = 2*np.atan2(-B_1-np.sqrt(A_1**2+B_1**2-C_1**2), C_1-A_1)\n",
    "    En_1_p = 2*np.atan2(-B_1+np.sqrt(A_1**2+B_1**2-C_1**2), C_1-A_1)\n",
    "    En_2_p = 2*np.atan2(-B_2+np.sqrt(A_2**2+B_2**2-C_2**2), C_2-A_2)\n",
    "    En_2_m = 2*np.atan2(-B_2-np.sqrt(A_2**2+B_2**2-C_2**2), C_2-A_2)\n",
    "    En_3_p = 2*np.atan2(-B_3+np.sqrt(A_3**2+B_3**2-C_3**2), C_3-A_3)\n",
    "    En_3_m = 2*np.atan2(-B_3-np.sqrt(A_3**2+B_3**2-C_3**2), C_3-A_3)\n",
    "\n",
    "    return np.rad2deg(En_1_p), np.rad2deg(En_2_p), np.rad2deg(En_3_p), np.rad2deg(En_1_m), np.rad2deg(En_2_m), np.rad2deg(En_3_m)"
   ]
  },
  {
   "cell_type": "code",
   "execution_count": 362,
   "metadata": {},
   "outputs": [
    {
     "data": {
      "text/plain": [
       "(array([0.26951831, 1.14536593]),\n",
       " array([0.27433908, 1.18094568]),\n",
       " array([0.26494343, 1.27368838]))"
      ]
     },
     "execution_count": 362,
     "metadata": {},
     "output_type": "execute_result"
    }
   ],
   "source": [
    "calculate_vertices(0.275, 1.2, -0.2, 0.2)"
   ]
  },
  {
   "cell_type": "code",
   "execution_count": 363,
   "metadata": {},
   "outputs": [
    {
     "name": "stderr",
     "output_type": "stream",
     "text": [
      "C:\\Users\\David\\AppData\\Local\\Temp\\ipykernel_19376\\2474131155.py:22: RuntimeWarning: invalid value encountered in sqrt\n",
      "  En_2_m = 2*np.atan2(-B_2-np.sqrt(A_2**2+B_2**2-C_2**2), C_2-A_2)\n",
      "C:\\Users\\David\\AppData\\Local\\Temp\\ipykernel_19376\\2474131155.py:23: RuntimeWarning: invalid value encountered in sqrt\n",
      "  En_3_p = 2*np.atan2(-B_3+np.sqrt(A_3**2+B_3**2-C_3**2), C_3-A_3)\n",
      "C:\\Users\\David\\AppData\\Local\\Temp\\ipykernel_19376\\2474131155.py:24: RuntimeWarning: invalid value encountered in sqrt\n",
      "  En_3_m = 2*np.atan2(-B_3-np.sqrt(A_3**2+B_3**2-C_3**2), C_3-A_3)\n"
     ]
    },
    {
     "data": {
      "text/plain": [
       "(np.float64(-67.51236679887434),\n",
       " np.float64(120.03242160688723),\n",
       " np.float64(nan),\n",
       " np.float64(-138.30245054365733),\n",
       " np.float64(nan),\n",
       " np.float64(nan))"
      ]
     },
     "execution_count": 363,
     "metadata": {},
     "output_type": "execute_result"
    }
   ],
   "source": [
    "calculate_angles(calculate_vertices(0.275, 1.2, -0.0, 0.0), 0.7, 0.775, 0.55)"
   ]
  },
  {
   "cell_type": "code",
   "execution_count": 348,
   "metadata": {},
   "outputs": [
    {
     "data": {
      "image/png": "[encoded data removed]",
      "text/plain": [
       "<Figure size 640x480 with 1 Axes>"
      ]
     },
     "metadata": {},
     "output_type": "display_data"
    }
   ],
   "source": [
    "import numpy as np\n",
    "import matplotlib.pyplot as plt\n",
    "from mpl_toolkits.mplot3d import Axes3D\n",
    "\n",
    "def calculate_vertices(p, h, omega_x, omega_y):\n",
    "    # Define the initial vertices of the triangle in 3D\n",
    "    A1 = np.array([p, 0, 0])\n",
    "    A2 = np.array([p * np.cos(2 * np.pi / 3), p * np.sin(2 * np.pi / 3), 0])\n",
    "    A3 = np.array([p * np.cos(4 * np.pi / 3), p * np.sin(4 * np.pi / 3), 0])\n",
    "    \n",
    "    # Apply the height translation\n",
    "    translation = np.array([0, 0, h])\n",
    "    \n",
    "    \n",
    "    # Rotation matrices\n",
    "    Rx = np.array([\n",
    "        [1, 0, 0],\n",
    "        [0, np.cos(omega_x), -np.sin(omega_x)],\n",
    "        [0, np.sin(omega_x), np.cos(omega_x)]\n",
    "    ])\n",
    "    \n",
    "    Ry = np.array([\n",
    "        [np.cos(omega_y), 0, np.sin(omega_y)],\n",
    "        [0, 1, 0],\n",
    "        [-np.sin(omega_y), 0, np.cos(omega_y)]\n",
    "    ])\n",
    "    \n",
    "    # Combined rotation matrix\n",
    "    R = np.dot(Ry, Rx)\n",
    "    \n",
    "    # Apply the rotation to each vertex\n",
    "    A1_rot = np.dot(R, A1)\n",
    "    A2_rot = np.dot(R, A2)\n",
    "    A3_rot = np.dot(R, A3)\n",
    "\n",
    "    A1_rot += translation\n",
    "    A2_rot += translation\n",
    "    A3_rot += translation\n",
    "\n",
    "    A1 += translation\n",
    "    A2 += translation\n",
    "    A3 += translation\n",
    "    \n",
    "    return A1, A2, A3, A1_rot, A2_rot, A3_rot\n",
    "\n",
    "# Example usage\n",
    "p = 0.275\n",
    "h = 1.2\n",
    "omega_x = 0.2 # radians\n",
    "omega_y = -0.2 # radians\n",
    "\n",
    "# Get the vertices before and after transformation\n",
    "A1, A2, A3, A1_rot, A2_rot, A3_rot = calculate_vertices(p, h, omega_x, omega_y)\n",
    "\n",
    "# Visualization\n",
    "fig = plt.figure()\n",
    "ax = fig.add_subplot(111, projection='3d')\n",
    "\n",
    "# Plot the initial triangle\n",
    "ax.plot([A1[0], A2[0]], [A1[1], A2[1]], [A1[2], A2[2]], 'r-')\n",
    "ax.plot([A2[0], A3[0]], [A2[1], A3[1]], [A2[2], A3[2]], 'r-')\n",
    "ax.plot([A3[0], A1[0]], [A3[1], A1[1]], [A3[2], A1[2]], 'r-')\n",
    "ax.scatter([A1[0], A2[0], A3[0]], [A1[1], A2[1], A3[1]], [A1[2], A2[2], A3[2]], c='r', label='Initial')\n",
    "\n",
    "# Plot the transformed triangle\n",
    "ax.plot([A1_rot[0], A2_rot[0]], [A1_rot[1], A2_rot[1]], [A1_rot[2], A2_rot[2]], 'b-')\n",
    "ax.plot([A2_rot[0], A3_rot[0]], [A2_rot[1], A3_rot[1]], [A2_rot[2], A3_rot[2]], 'b-')\n",
    "ax.plot([A3_rot[0], A1_rot[0]], [A3_rot[1], A1_rot[1]], [A3_rot[2], A1_rot[2]], 'b-')\n",
    "ax.scatter([A1_rot[0], A2_rot[0], A3_rot[0]], [A1_rot[1], A2_rot[1], A3_rot[1]], [A1_rot[2], A2_rot[2], A3_rot[2]], c='b', label='Transformed')\n",
    "\n",
    "# Set labels\n",
    "ax.set_xlabel('-Y')\n",
    "ax.set_ylabel('X')\n",
    "ax.set_zlim((1.0, 1.4))\n",
    "\n",
    "\n",
    "# Add legend\n",
    "ax.legend()\n",
    "\n",
    "# Show plot\n",
    "plt.show()\n"
   ]
  },
  {
   "cell_type": "code",
   "execution_count": null,
   "metadata": {},
   "outputs": [],
   "source": []
  },
  {
   "cell_type": "code",
   "execution_count": null,
   "metadata": {},
   "outputs": [],
   "source": []
  }
 ],
 "metadata": {
  "kernelspec": {
   "display_name": ".venv",
   "language": "python",
   "name": "python3"
  },
  "language_info": {
   "codemirror_mode": {
    "name": "ipython",
    "version": 3
   },
   "file_extension": ".py",
   "mimetype": "text/x-python",
   "name": "python",
   "nbconvert_exporter": "python",
   "pygments_lexer": "ipython3",
   "version": "3.11.1"
  }
 },
 "nbformat": 4,
 "nbformat_minor": 2
}
