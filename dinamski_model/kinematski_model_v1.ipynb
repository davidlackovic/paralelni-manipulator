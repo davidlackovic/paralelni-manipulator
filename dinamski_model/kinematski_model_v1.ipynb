{
 "cells": [
  {
   "cell_type": "code",
   "execution_count": 7,
   "metadata": {},
   "outputs": [],
   "source": [
    "import numpy as np\n",
    "import sympy as sym"
   ]
  },
  {
   "cell_type": "code",
   "execution_count": 8,
   "metadata": {},
   "outputs": [],
   "source": [
    "def calculate_vertices(p, h, omega_x, omega_y):\n",
    "    '''Izračuna lege vozlišc.\n",
    "    \n",
    "    \n",
    "    p - radij zgornjega kroga,\n",
    "    h - višina centra zgornjega kroga,\n",
    "    omega_x - zasuk okoli x-osi,\n",
    "    omega_y - zasuk okoli y-osi.\n",
    "       \n",
    "       \n",
    "       \n",
    "       \n",
    "    '''\n",
    "    A1 = np.array([p, 0, 0])\n",
    "    A2 = np.array([p * np.cos(2 * np.pi / 3), p * np.sin(2 * np.pi / 3), 0])\n",
    "    A3 = np.array([p * np.cos(4 * np.pi / 3), p * np.sin(4 * np.pi / 3), 0])\n",
    "    \n",
    "    translacija = np.array([0, 0, h])\n",
    "    \n",
    "    Rx = np.array([\n",
    "        [1, 0, 0],\n",
    "        [0, np.cos(omega_x), -np.sin(omega_x)],\n",
    "        [0, np.sin(omega_x), np.cos(omega_x)]\n",
    "    ])\n",
    "    \n",
    "    Ry = np.array([\n",
    "        [np.cos(omega_y), 0, np.sin(omega_y)],\n",
    "        [0, 1, 0],\n",
    "        [-np.sin(omega_y), 0, np.cos(omega_y)]\n",
    "    ])\n",
    "    \n",
    "    R = np.dot(Ry, Rx)\n",
    "    \n",
    "    A1_rot = np.dot(R, A1)\n",
    "    A2_rot = np.dot(R, A2)\n",
    "    A3_rot = np.dot(R, A3)\n",
    "\n",
    "    A1_rot += translacija\n",
    "    A2_rot += translacija\n",
    "    A3_rot += translacija\n",
    "\n",
    "    A1_out = np.array([np.sqrt(A1_rot[0]**2+A1_rot[1]**2), A1_rot[2]])\n",
    "    A2_out = np.array([np.sqrt(A2_rot[0]**2+A2_rot[1]**2), A2_rot[2]])\n",
    "    A3_out = np.array([np.sqrt(A3_rot[0]**2+A3_rot[1]**2), A3_rot[2]])\n",
    "    \n",
    "    \n",
    "    return A1_out, A2_out, A3_out"
   ]
  },
  {
   "cell_type": "code",
   "execution_count": 9,
   "metadata": {},
   "outputs": [],
   "source": [
    "def calculate_angles(vertices=list, l_1=float, l_2=float, b=float):\n",
    "    '''Izračuna kote glede na podana vozlišča.\n",
    "\n",
    "    vertices - matrika točk v x-z ravnini oblike [[x1, z1], [x2, z2], [x3, z3]], l_1 - dolžina spodnje roke, l_2 - dolžina zgornje roke, b - radij sponjega kroga.\n",
    "\n",
    "    '''\n",
    "    A_1 = 2*l_1*np.cos(0)*(-vertices[0][0] + b*np.cos(0))\n",
    "    A_2 = 2*l_1*np.cos(2*np.pi/3)*(-vertices[1][0] + b*np.cos(2*np.pi/3))\n",
    "    A_3 = 2*l_1*np.cos(4*np.pi/3)*(-vertices[2][0] + b*np.cos(4*np.pi/3))\n",
    "\n",
    "    B_1 = 2*l_1*vertices[0][1]*np.cos(0)**2\n",
    "    B_2 = 2*l_1*vertices[1][1]*np.cos(2*np.pi/3)**2\n",
    "    B_3 = 2*l_1*vertices[2][1]*np.cos(4*np.pi/3)**2\n",
    "\n",
    "    C_1 = vertices[0][0]**2-2*b*vertices[0][0]*np.cos(0)+np.cos(0)**2*(b**2+l_1**2-l_2**2+vertices[0][1]**2)\n",
    "    C_2 = vertices[1][0]**2-2*b*vertices[1][0]*np.cos(2*np.pi/3)+np.cos(2*np.pi/3)**2*(b**2+l_1**2-l_2**2+vertices[1][1]**2)\n",
    "    C_3 = vertices[2][0]**2-2*b*vertices[2][0]*np.cos(4*np.pi/3)+np.cos(4*np.pi/3)**2*(b**2+l_1**2-l_2**2+vertices[2][1]**2)\n",
    "\n",
    "    En_1_m = 2*np.atan2(-B_1-np.sqrt(A_1**2+B_1**2-C_1**2), C_1-A_1)\n",
    "    En_1_p = 2*np.atan2(-B_1+np.sqrt(A_1**2+B_1**2-C_1**2), C_1-A_1)\n",
    "    En_2_p = 2*np.atan2(-B_2+np.sqrt(A_2**2+B_2**2-C_2**2), C_2-A_2)\n",
    "    En_2_m = 2*np.atan2(-B_2-np.sqrt(A_2**2+B_2**2-C_2**2), C_2-A_2)\n",
    "    En_3_p = 2*np.atan2(-B_3+np.sqrt(A_3**2+B_3**2-C_3**2), C_3-A_3)\n",
    "    En_3_m = 2*np.atan2(-B_3-np.sqrt(A_3**2+B_3**2-C_3**2), C_3-A_3)\n",
    "\n",
    "    return np.rad2deg(En_1_p), np.rad2deg(En_2_p), np.rad2deg(En_3_p), np.rad2deg(En_1_m), np.rad2deg(En_2_m), np.rad2deg(En_3_m)"
   ]
  },
  {
   "cell_type": "code",
   "execution_count": 18,
   "metadata": {},
   "outputs": [],
   "source": [
    "psi_x, psi_y, psi_z = sym.symbols('psi_x, psi_y, psi_z')"
   ]
  },
  {
   "cell_type": "code",
   "execution_count": 35,
   "metadata": {},
   "outputs": [],
   "source": [
    "omega_x = -0.2\n",
    "omega_y = 0.2"
   ]
  },
  {
   "cell_type": "code",
   "execution_count": 15,
   "metadata": {},
   "outputs": [
    {
     "data": {
      "text/latex": [
       "$\\displaystyle -0.201357920790331$"
      ],
      "text/plain": [
       "-0.201357920790331"
      ]
     },
     "execution_count": 15,
     "metadata": {},
     "output_type": "execute_result"
    }
   ],
   "source": [
    "psi_y = sym.asin(omega_x)\n",
    "psi_y"
   ]
  },
  {
   "cell_type": "code",
   "execution_count": 17,
   "metadata": {},
   "outputs": [
    {
     "data": {
      "text/latex": [
       "$\\displaystyle -0.205568931161174$"
      ],
      "text/plain": [
       "-0.205568931161174"
      ]
     },
     "execution_count": 17,
     "metadata": {},
     "output_type": "execute_result"
    }
   ],
   "source": [
    "psi_x = sym.asin(-omega_y/sym.cos(psi_y))\n",
    "psi_x"
   ]
  },
  {
   "cell_type": "code",
   "execution_count": 56,
   "metadata": {},
   "outputs": [],
   "source": [
    "R = sym.Matrix([[sym.cos(psi_y)*sym.cos(psi_z), -sym.cos(psi_y)*sym.sin(psi_z), sym.sin(psi_y)],\n",
    "              [sym.sin(psi_x)*sym.sin(psi_y)*sym.cos(psi_z), sym.cos(psi_x)*sym.cos(psi_z)-sym.sin(psi_x)*sym.sin(psi_y)*sym.sin(psi_z), -sym.sin(psi_x)*sym.cos(psi_y)],\n",
    "              [sym.sin(psi_x)*sym.sin(psi_z)-sym.cos(psi_x)*sym.sin(psi_y)*sym.cos(psi_z), sym.sin(psi_x)*sym.cos(psi_z)+sym.cos(psi_x)*sym.sin(psi_y)*sym.sin(psi_z), sym.cos(psi_x)*sym.cos(psi_y)]])"
   ]
  },
  {
   "cell_type": "code",
   "execution_count": 57,
   "metadata": {},
   "outputs": [
    {
     "data": {
      "text/latex": [
       "$\\displaystyle \\left[\\begin{matrix}\\cos{\\left(\\psi_{y} \\right)} \\cos{\\left(\\psi_{z} \\right)} & - \\sin{\\left(\\psi_{z} \\right)} \\cos{\\left(\\psi_{y} \\right)} & \\sin{\\left(\\psi_{y} \\right)}\\\\\\sin{\\left(\\psi_{x} \\right)} \\sin{\\left(\\psi_{y} \\right)} \\cos{\\left(\\psi_{z} \\right)} & - \\sin{\\left(\\psi_{x} \\right)} \\sin{\\left(\\psi_{y} \\right)} \\sin{\\left(\\psi_{z} \\right)} + \\cos{\\left(\\psi_{x} \\right)} \\cos{\\left(\\psi_{z} \\right)} & - \\sin{\\left(\\psi_{x} \\right)} \\cos{\\left(\\psi_{y} \\right)}\\\\\\sin{\\left(\\psi_{x} \\right)} \\sin{\\left(\\psi_{z} \\right)} - \\sin{\\left(\\psi_{y} \\right)} \\cos{\\left(\\psi_{x} \\right)} \\cos{\\left(\\psi_{z} \\right)} & \\sin{\\left(\\psi_{x} \\right)} \\cos{\\left(\\psi_{z} \\right)} + \\sin{\\left(\\psi_{y} \\right)} \\sin{\\left(\\psi_{z} \\right)} \\cos{\\left(\\psi_{x} \\right)} & \\cos{\\left(\\psi_{x} \\right)} \\cos{\\left(\\psi_{y} \\right)}\\end{matrix}\\right]$"
      ],
      "text/plain": [
       "Matrix([\n",
       "[                                   cos(psi_y)*cos(psi_z),                                    -sin(psi_z)*cos(psi_y),             sin(psi_y)],\n",
       "[                        sin(psi_x)*sin(psi_y)*cos(psi_z), -sin(psi_x)*sin(psi_y)*sin(psi_z) + cos(psi_x)*cos(psi_z), -sin(psi_x)*cos(psi_y)],\n",
       "[sin(psi_x)*sin(psi_z) - sin(psi_y)*cos(psi_x)*cos(psi_z),  sin(psi_x)*cos(psi_z) + sin(psi_y)*sin(psi_z)*cos(psi_x),  cos(psi_x)*cos(psi_y)]])"
      ]
     },
     "execution_count": 57,
     "metadata": {},
     "output_type": "execute_result"
    }
   ],
   "source": [
    "R"
   ]
  },
  {
   "cell_type": "code",
   "execution_count": 58,
   "metadata": {},
   "outputs": [],
   "source": [
    "R_num = R.subs([(psi_y, sym.asin(omega_x)),(psi_x, sym.asin(-omega_y/sym.cos(psi_y))), (psi_z, sym.tan((sym.sin(psi_x)*sym.sin(psi_y))/(sym.cos(psi_x)+sym.cos(psi_y))))])"
   ]
  },
  {
   "cell_type": "code",
   "execution_count": null,
   "metadata": {},
   "outputs": [],
   "source": [
    "np.asin(omega_x)\n",
    "\n",
    "np.asin(-omega_y/np.cos(np.asin(omega_x)))\n",
    "\n",
    "np.tan((np.sin(np.asin(-omega_y/np.cos(np.asin(omega_x))))*np.sin(np.asin(omega_x)))/(np.cos(np.asin(-omega_y/np.cos(np.asin(omega_x))))+np.cos(np.asin(omega_x))))"
   ]
  },
  {
   "cell_type": "code",
   "execution_count": 59,
   "metadata": {},
   "outputs": [
    {
     "data": {
      "text/latex": [
       "$\\displaystyle \\left[\\begin{matrix}0.979795897113271 \\cos{\\left(\\tan{\\left(\\frac{\\sin{\\left(\\psi_{x} \\right)} \\sin{\\left(\\psi_{y} \\right)}}{\\cos{\\left(\\psi_{x} \\right)} + \\cos{\\left(\\psi_{y} \\right)}} \\right)} \\right)} & - 0.979795897113271 \\sin{\\left(\\tan{\\left(\\frac{\\sin{\\left(\\psi_{x} \\right)} \\sin{\\left(\\psi_{y} \\right)}}{\\cos{\\left(\\psi_{x} \\right)} + \\cos{\\left(\\psi_{y} \\right)}} \\right)} \\right)} & -0.2\\\\\\frac{0.04 \\cos{\\left(\\tan{\\left(\\frac{\\sin{\\left(\\psi_{x} \\right)} \\sin{\\left(\\psi_{y} \\right)}}{\\cos{\\left(\\psi_{x} \\right)} + \\cos{\\left(\\psi_{y} \\right)}} \\right)} \\right)}}{\\cos{\\left(\\psi_{y} \\right)}} & \\sqrt{1 - \\frac{0.04}{\\cos^{2}{\\left(\\psi_{y} \\right)}}} \\cos{\\left(\\tan{\\left(\\frac{\\sin{\\left(\\psi_{x} \\right)} \\sin{\\left(\\psi_{y} \\right)}}{\\cos{\\left(\\psi_{x} \\right)} + \\cos{\\left(\\psi_{y} \\right)}} \\right)} \\right)} - \\frac{0.04 \\sin{\\left(\\tan{\\left(\\frac{\\sin{\\left(\\psi_{x} \\right)} \\sin{\\left(\\psi_{y} \\right)}}{\\cos{\\left(\\psi_{x} \\right)} + \\cos{\\left(\\psi_{y} \\right)}} \\right)} \\right)}}{\\cos{\\left(\\psi_{y} \\right)}} & \\frac{0.195959179422654}{\\cos{\\left(\\psi_{y} \\right)}}\\\\0.2 \\sqrt{1 - \\frac{0.04}{\\cos^{2}{\\left(\\psi_{y} \\right)}}} \\cos{\\left(\\tan{\\left(\\frac{\\sin{\\left(\\psi_{x} \\right)} \\sin{\\left(\\psi_{y} \\right)}}{\\cos{\\left(\\psi_{x} \\right)} + \\cos{\\left(\\psi_{y} \\right)}} \\right)} \\right)} - \\frac{0.2 \\sin{\\left(\\tan{\\left(\\frac{\\sin{\\left(\\psi_{x} \\right)} \\sin{\\left(\\psi_{y} \\right)}}{\\cos{\\left(\\psi_{x} \\right)} + \\cos{\\left(\\psi_{y} \\right)}} \\right)} \\right)}}{\\cos{\\left(\\psi_{y} \\right)}} & - 0.2 \\sqrt{1 - \\frac{0.04}{\\cos^{2}{\\left(\\psi_{y} \\right)}}} \\sin{\\left(\\tan{\\left(\\frac{\\sin{\\left(\\psi_{x} \\right)} \\sin{\\left(\\psi_{y} \\right)}}{\\cos{\\left(\\psi_{x} \\right)} + \\cos{\\left(\\psi_{y} \\right)}} \\right)} \\right)} - \\frac{0.2 \\cos{\\left(\\tan{\\left(\\frac{\\sin{\\left(\\psi_{x} \\right)} \\sin{\\left(\\psi_{y} \\right)}}{\\cos{\\left(\\psi_{x} \\right)} + \\cos{\\left(\\psi_{y} \\right)}} \\right)} \\right)}}{\\cos{\\left(\\psi_{y} \\right)}} & 0.979795897113271 \\sqrt{1 - \\frac{0.04}{\\cos^{2}{\\left(\\psi_{y} \\right)}}}\\end{matrix}\\right]$"
      ],
      "text/plain": [
       "Matrix([\n",
       "[                                                                                          0.979795897113271*cos(tan(sin(psi_x)*sin(psi_y)/(cos(psi_x) + cos(psi_y)))),                                                                                           -0.979795897113271*sin(tan(sin(psi_x)*sin(psi_y)/(cos(psi_x) + cos(psi_y)))),                                           -0.2],\n",
       "[                                                                                            0.04*cos(tan(sin(psi_x)*sin(psi_y)/(cos(psi_x) + cos(psi_y))))/cos(psi_y),     sqrt(1 - 0.04/cos(psi_y)**2)*cos(tan(sin(psi_x)*sin(psi_y)/(cos(psi_x) + cos(psi_y)))) - 0.04*sin(tan(sin(psi_x)*sin(psi_y)/(cos(psi_x) + cos(psi_y))))/cos(psi_y),                   0.195959179422654/cos(psi_y)],\n",
       "[0.2*sqrt(1 - 0.04/cos(psi_y)**2)*cos(tan(sin(psi_x)*sin(psi_y)/(cos(psi_x) + cos(psi_y)))) - 0.2*sin(tan(sin(psi_x)*sin(psi_y)/(cos(psi_x) + cos(psi_y))))/cos(psi_y), -0.2*sqrt(1 - 0.04/cos(psi_y)**2)*sin(tan(sin(psi_x)*sin(psi_y)/(cos(psi_x) + cos(psi_y)))) - 0.2*cos(tan(sin(psi_x)*sin(psi_y)/(cos(psi_x) + cos(psi_y))))/cos(psi_y), 0.979795897113271*sqrt(1 - 0.04/cos(psi_y)**2)]])"
      ]
     },
     "execution_count": 59,
     "metadata": {},
     "output_type": "execute_result"
    }
   ],
   "source": [
    "R_num"
   ]
  },
  {
   "cell_type": "code",
   "execution_count": 74,
   "metadata": {},
   "outputs": [
    {
     "data": {
      "text/latex": [
       "$\\displaystyle \\left[\\begin{matrix}0.979795897113271 \\cos{\\left(\\tan{\\left(\\frac{\\sin{\\left(\\psi_{x} \\right)} \\sin{\\left(\\psi_{y} \\right)}}{\\cos{\\left(\\psi_{x} \\right)} + \\cos{\\left(\\psi_{y} \\right)}} \\right)} \\right)}\\end{matrix}\\right]$"
      ],
      "text/plain": [
       "Matrix([[0.979795897113271*cos(tan(sin(psi_x)*sin(psi_y)/(cos(psi_x) + cos(psi_y))))]])"
      ]
     },
     "execution_count": 74,
     "metadata": {},
     "output_type": "execute_result"
    }
   ],
   "source": [
    "u_x = R_num.row(0).col(0)\n",
    "u_y = R_num.row(1).col(0)\n",
    "v_x = u_y\n",
    "v_y = R_num.row(1).col(1)\n",
    "u_x"
   ]
  },
  {
   "cell_type": "code",
   "execution_count": 84,
   "metadata": {},
   "outputs": [],
   "source": [
    "u_x_num = u_x.subs([(psi_z, sym.tan((sym.sin(psi_x)*sym.sin(psi_y))/(sym.cos(psi_x)+sym.cos(psi_y)))),(psi_x, sym.asin(-omega_y/sym.cos(psi_y))), (psi_y, sym.asin(omega_x))])\n",
    "u_y_num = u_y.subs([(psi_z, sym.tan((sym.sin(psi_x)*sym.sin(psi_y))/(sym.cos(psi_x)+sym.cos(psi_y)))),(psi_x, sym.asin(-omega_y/sym.cos(psi_y))), (psi_y, sym.asin(omega_x))])\n",
    "v_x_num = v_x.subs([(psi_z, sym.tan((sym.sin(psi_x)*sym.sin(psi_y))/(sym.cos(psi_x)+sym.cos(psi_y)))),(psi_x, sym.asin(-omega_y/sym.cos(psi_y))), (psi_y, sym.asin(omega_x))])\n",
    "v_y_num = v_y.subs([(psi_z, sym.tan((sym.sin(psi_x)*sym.sin(psi_y))/(sym.cos(psi_x)+sym.cos(psi_y)))),(psi_x, sym.asin(-omega_y/sym.cos(psi_y))), (psi_y, sym.asin(omega_x))])"
   ]
  },
  {
   "cell_type": "code",
   "execution_count": 93,
   "metadata": {},
   "outputs": [],
   "source": [
    "p = 0.5\n",
    "h = 1.2\n",
    "O_7y = -u_y_num*p\n",
    "O_7x = p*(u_x_num-v_y_num)/2"
   ]
  },
  {
   "cell_type": "code",
   "execution_count": 94,
   "metadata": {},
   "outputs": [
    {
     "data": {
      "text/plain": [
       "(Matrix([[-0.0204079797725461]]), Matrix([[0.000425412555189353]]))"
      ]
     },
     "execution_count": 94,
     "metadata": {},
     "output_type": "execute_result"
    }
   ],
   "source": [
    "O_7y, O_7x"
   ]
  },
  {
   "cell_type": "code",
   "execution_count": 97,
   "metadata": {},
   "outputs": [
    {
     "data": {
      "text/plain": [
       "array([0.000425412555189353, -0.0204079797725461, 1.2], dtype=object)"
      ]
     },
     "execution_count": 97,
     "metadata": {},
     "output_type": "execute_result"
    }
   ],
   "source": [
    "O_7 = np.array([O_7x[0], O_7y[0], h])\n",
    "O_7"
   ]
  },
  {
   "cell_type": "markdown",
   "metadata": {},
   "source": [
    "### za naprej\n",
    "- zdej maš vektor O_7, ki kaže do središča zgornje plošče\n",
    "- maš 3x3 matriko rotacij $[R]$\n",
    "- po enačbi (8) izračunaš lege vozlišč zgornjega trikotnika, iz tega dobiš O_7ix in O_7iz\n",
    "- to vstaviš v *calculate_angles*\n",
    "\n",
    "vse v numpy, ker sympy ne dela z matrikami"
   ]
  },
  {
   "cell_type": "code",
   "execution_count": 100,
   "metadata": {},
   "outputs": [
    {
     "data": {
      "text/plain": [
       "(np.float64(-71.41375201095987),\n",
       " np.float64(-62.82950370536553),\n",
       " np.float64(-70.0152630003184),\n",
       " np.float64(-133.81917544523256),\n",
       " np.float64(-144.3134567112014),\n",
       " np.float64(-136.7308548141921))"
      ]
     },
     "execution_count": 100,
     "metadata": {},
     "output_type": "execute_result"
    }
   ],
   "source": [
    "from funkcije import izracun_kotov\n",
    "izracun_kotov(0.55, 0.275, 0.7, 0.775, 1.2, -0.2, 0.2)"
   ]
  },
  {
   "cell_type": "code",
   "execution_count": null,
   "metadata": {},
   "outputs": [],
   "source": []
  }
 ],
 "metadata": {
  "kernelspec": {
   "display_name": ".venv",
   "language": "python",
   "name": "python3"
  },
  "language_info": {
   "codemirror_mode": {
    "name": "ipython",
    "version": 3
   },
   "file_extension": ".py",
   "mimetype": "text/x-python",
   "name": "python",
   "nbconvert_exporter": "python",
   "pygments_lexer": "ipython3",
   "version": "3.11.1"
  }
 },
 "nbformat": 4,
 "nbformat_minor": 2
}
